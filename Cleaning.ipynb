{
 "cells": [
  {
   "cell_type": "code",
   "execution_count": 20,
   "metadata": {},
   "outputs": [],
   "source": [
    "import pandas as pd\n",
    "from nltk.tag import pos_tag\n",
    "import pymorphy2\n",
    "from nltk import ngrams\n",
    "from tqdm import tqdm\n",
    "import re"
   ]
  },
  {
   "cell_type": "code",
   "execution_count": 4,
   "metadata": {},
   "outputs": [],
   "source": [
    "itmo_data = pd.read_csv('Data/22.04.2020_21:43.csv', index_col=0)"
   ]
  },
  {
   "cell_type": "code",
   "execution_count": 5,
   "metadata": {},
   "outputs": [
    {
     "data": {
      "text/html": [
       "<div>\n",
       "<style scoped>\n",
       "    .dataframe tbody tr th:only-of-type {\n",
       "        vertical-align: middle;\n",
       "    }\n",
       "\n",
       "    .dataframe tbody tr th {\n",
       "        vertical-align: top;\n",
       "    }\n",
       "\n",
       "    .dataframe thead th {\n",
       "        text-align: right;\n",
       "    }\n",
       "</style>\n",
       "<table border=\"1\" class=\"dataframe\">\n",
       "  <thead>\n",
       "    <tr style=\"text-align: right;\">\n",
       "      <th></th>\n",
       "      <th>URL</th>\n",
       "      <th>Название курса</th>\n",
       "      <th>Содержание курса</th>\n",
       "      <th>Дата сет</th>\n",
       "      <th>Ключевые слова</th>\n",
       "      <th>clear_keywords</th>\n",
       "    </tr>\n",
       "  </thead>\n",
       "  <tbody>\n",
       "    <tr>\n",
       "      <th>0</th>\n",
       "      <td>https://www.hse.ru/edu/courses/292700221</td>\n",
       "      <td>Математика</td>\n",
       "      <td>Элементы линейной алгебрыТема 1.1. линейные пр...</td>\n",
       "      <td>hse</td>\n",
       "      <td></td>\n",
       "      <td>вероятности, распределения, экстремума, вектор...</td>\n",
       "    </tr>\n",
       "    <tr>\n",
       "      <th>1</th>\n",
       "      <td>https://www.hse.ru/edu/courses/292700221</td>\n",
       "      <td>Математика</td>\n",
       "      <td>Элементы линейной алгебрыТема 1.1. линейные пр...</td>\n",
       "      <td>hse</td>\n",
       "      <td></td>\n",
       "      <td>вероятности, распределения, экстремума, вектор...</td>\n",
       "    </tr>\n",
       "    <tr>\n",
       "      <th>2</th>\n",
       "      <td>https://www.hse.ru/edu/courses/292684119</td>\n",
       "      <td>Физика</td>\n",
       "      <td>Тема 1. Механика. Механические колебания и вол...</td>\n",
       "      <td>hse</td>\n",
       "      <td></td>\n",
       "      <td>импульс, поток, напряженности, вектор, электро...</td>\n",
       "    </tr>\n",
       "    <tr>\n",
       "      <th>3</th>\n",
       "      <td>https://www.hse.ru/edu/courses/292684119</td>\n",
       "      <td>Физика</td>\n",
       "      <td>Тема 1. Механика. Механические колебания и вол...</td>\n",
       "      <td>hse</td>\n",
       "      <td></td>\n",
       "      <td>импульс, поток, напряженности, вектор, электро...</td>\n",
       "    </tr>\n",
       "    <tr>\n",
       "      <th>4</th>\n",
       "      <td>https://online.edu.ru/public/course.xhtml?face...</td>\n",
       "      <td>Основы права</td>\n",
       "      <td>Что такое право? Российское право на правовой...</td>\n",
       "      <td>itmo</td>\n",
       "      <td></td>\n",
       "      <td>семья, правонарушения, имущественные, правовог...</td>\n",
       "    </tr>\n",
       "  </tbody>\n",
       "</table>\n",
       "</div>"
      ],
      "text/plain": [
       "                                                 URL Название курса  \\\n",
       "0           https://www.hse.ru/edu/courses/292700221     Математика   \n",
       "1           https://www.hse.ru/edu/courses/292700221     Математика   \n",
       "2           https://www.hse.ru/edu/courses/292684119         Физика   \n",
       "3           https://www.hse.ru/edu/courses/292684119         Физика   \n",
       "4  https://online.edu.ru/public/course.xhtml?face...  Основы права    \n",
       "\n",
       "                                    Содержание курса Дата сет Ключевые слова  \\\n",
       "0  Элементы линейной алгебрыТема 1.1. линейные пр...      hse                  \n",
       "1  Элементы линейной алгебрыТема 1.1. линейные пр...      hse                  \n",
       "2  Тема 1. Механика. Механические колебания и вол...      hse                  \n",
       "3  Тема 1. Механика. Механические колебания и вол...      hse                  \n",
       "4   Что такое право? Российское право на правовой...     itmo                  \n",
       "\n",
       "                                      clear_keywords  \n",
       "0  вероятности, распределения, экстремума, вектор...  \n",
       "1  вероятности, распределения, экстремума, вектор...  \n",
       "2  импульс, поток, напряженности, вектор, электро...  \n",
       "3  импульс, поток, напряженности, вектор, электро...  \n",
       "4  семья, правонарушения, имущественные, правовог...  "
      ]
     },
     "execution_count": 5,
     "metadata": {},
     "output_type": "execute_result"
    }
   ],
   "source": [
    "itmo_data.head()"
   ]
  },
  {
   "cell_type": "code",
   "execution_count": 10,
   "metadata": {},
   "outputs": [],
   "source": [
    "key_words = itmo_data['clear_keywords'].apply(lambda x: str(x).split(', ')).values"
   ]
  },
  {
   "cell_type": "code",
   "execution_count": 12,
   "metadata": {},
   "outputs": [],
   "source": [
    "key_words = [word for sent in key_words for word in sent]"
   ]
  },
  {
   "cell_type": "code",
   "execution_count": 15,
   "metadata": {},
   "outputs": [],
   "source": [
    "morph = pymorphy2.analyzer.MorphAnalyzer()"
   ]
  },
  {
   "cell_type": "code",
   "execution_count": 63,
   "metadata": {},
   "outputs": [],
   "source": [
    "itmo_data['clear_keywords'] = itmo_data['clear_keywords'].fillna(' ')"
   ]
  },
  {
   "cell_type": "code",
   "execution_count": 84,
   "metadata": {},
   "outputs": [
    {
     "name": "stderr",
     "output_type": "stream",
     "text": [
      "100%|██████████| 53113/53113 [01:17<00:00, 687.49it/s] \n"
     ]
    }
   ],
   "source": [
    "all_keywords = []\n",
    "\n",
    "for key_words in tqdm(itmo_data['clear_keywords'].values):\n",
    "    phrases = key_words.split(', ')\n",
    "    tmp = []\n",
    "    if phrases != []:\n",
    "        for phrase in phrases:\n",
    "            if len(phrase.split()) == 1:\n",
    "                if re.search('[А-Яа-я]+', phrase):\n",
    "                    if morph.parse(phrase)[0].tag.POS == 'NOUN':\n",
    "                        tmp.append(morph.parse(phrase)[0].normalized[0])\n",
    "                elif re.search('[A-Za-z]+', phrase):\n",
    "                    if pos_tag([phrase])[0][1] == 'NN' or\\\n",
    "                    pos_tag([phrase])[0][1] == 'NNP' or pos_tag([phrase])[0][1] == 'NNPS':\n",
    "                        tmp.append(phrase)\n",
    "\n",
    "            elif len(phrase.split()) == 2:\n",
    "                tokenized = []\n",
    "                for word in phrase.split():\n",
    "                    if re.search('[А-Яа-я]+', word):\n",
    "                        tokenized.append(morph.parse(word)[0].tag.POS)\n",
    "                    elif re.search('[A-Za-z]+', word):\n",
    "                        tokenized.append(pos_tag([word])[0][1])\n",
    "\n",
    "                tag_1 = tokenized[0]\n",
    "                tag_2 = tokenized[1]\n",
    "                \n",
    "                if tag_1 != None and tag_2 != None:\n",
    "                    if re.match(r'N', tag_1) and re.match(r'N', tag_2) or\\\n",
    "                    re.match(r'A', tag_1) and re.match(r'N', tag_2):\n",
    "                        tmp.append(phrase)\n",
    "\n",
    "            elif len(phrase.split()) == 3:\n",
    "                tokenized = []\n",
    "                for word in phrase.split():\n",
    "                    if re.search('[А-Яа-я]+', word):\n",
    "                        tokenized.append(morph.parse(word)[0].tag.POS)\n",
    "                    elif re.search('[A-Za-z]+', word):\n",
    "                        tokenized.append(pos_tag([word])[0][1])\n",
    "\n",
    "                tag_1 = tokenized[0]\n",
    "                tag_2 = tokenized[1]\n",
    "                tag_3 = tokenized[2]\n",
    "                if tag_1 != None and tag_2 != None and tag_3 != None:\n",
    "                    if re.match(r'A', tag_1) and re.match(r'N', tag_2) and re.match(r'N', tag_3) or\\\n",
    "                    re.match(r'A', tag_1) and re.match(r'A', tag_2) and re.match(r'N', tag_3):\n",
    "                        tmp.append(phrase)\n",
    "        else:\n",
    "            tmp.append(' ')\n",
    "\n",
    "    all_keywords.append(', '.join(tmp))\n"
   ]
  },
  {
   "cell_type": "code",
   "execution_count": 85,
   "metadata": {},
   "outputs": [],
   "source": [
    "itmo_data['new_keywords'] = all_keywords"
   ]
  },
  {
   "cell_type": "code",
   "execution_count": 68,
   "metadata": {},
   "outputs": [
    {
     "data": {
      "text/plain": [
       "'научных документовструктура текста, среде labview, эксперимента программирования среде, экспериментальный набор данных, экспериментальных данных использованием, чтение визуализация сохранение, стандарты оформления, использованием gnuplot python'"
      ]
     },
     "execution_count": 68,
     "metadata": {},
     "output_type": "execute_result"
    }
   ],
   "source": [
    "itmo_data.iloc[53109]['clear_keywords']"
   ]
  },
  {
   "cell_type": "code",
   "execution_count": 87,
   "metadata": {},
   "outputs": [
    {
     "data": {
      "text/plain": [
       "URL                  \n",
       "Название курса       \n",
       "Содержание курса     \n",
       "Дата сет             \n",
       "Ключевые слова       \n",
       "clear_keywords       \n",
       "new_keywords         \n",
       "Name: 53110, dtype: object"
      ]
     },
     "execution_count": 87,
     "metadata": {},
     "output_type": "execute_result"
    }
   ],
   "source": []
  },
  {
   "cell_type": "code",
   "execution_count": 91,
   "metadata": {},
   "outputs": [
    {
     "data": {
      "text/plain": [
       "(966,)"
      ]
     },
     "execution_count": 91,
     "metadata": {},
     "output_type": "execute_result"
    }
   ],
   "source": [
    "itmo_data['URL'].unique().shape"
   ]
  },
  {
   "cell_type": "code",
   "execution_count": 92,
   "metadata": {},
   "outputs": [],
   "source": [
    "data = pd.read_csv('Data/Itmo_with_tf_idf.csv', index_col=0)"
   ]
  },
  {
   "cell_type": "code",
   "execution_count": 93,
   "metadata": {},
   "outputs": [
    {
     "data": {
      "text/html": [
       "<div>\n",
       "<style scoped>\n",
       "    .dataframe tbody tr th:only-of-type {\n",
       "        vertical-align: middle;\n",
       "    }\n",
       "\n",
       "    .dataframe tbody tr th {\n",
       "        vertical-align: top;\n",
       "    }\n",
       "\n",
       "    .dataframe thead th {\n",
       "        text-align: right;\n",
       "    }\n",
       "</style>\n",
       "<table border=\"1\" class=\"dataframe\">\n",
       "  <thead>\n",
       "    <tr style=\"text-align: right;\">\n",
       "      <th></th>\n",
       "      <th>SUBFIELDCODE</th>\n",
       "      <th>SUBFIELDNAME</th>\n",
       "      <th>DEGREE</th>\n",
       "      <th>SUBJECT</th>\n",
       "      <th>SEMESTER</th>\n",
       "      <th>START_YEAR</th>\n",
       "      <th>URL</th>\n",
       "      <th>Название курса</th>\n",
       "      <th>Содержание курса</th>\n",
       "      <th>Дата сет</th>\n",
       "      <th>Ключевые слова</th>\n",
       "      <th>Чистое содержание</th>\n",
       "      <th>keywords_tf-idf</th>\n",
       "    </tr>\n",
       "  </thead>\n",
       "  <tbody>\n",
       "    <tr>\n",
       "      <th>0</th>\n",
       "      <td>09.03.01</td>\n",
       "      <td>Вычислительные машины, комплексы, системы и сети</td>\n",
       "      <td>Академический бакалавр</td>\n",
       "      <td>Математика</td>\n",
       "      <td>1</td>\n",
       "      <td>2014</td>\n",
       "      <td>https://www.hse.ru/edu/courses/292700221</td>\n",
       "      <td>Математика</td>\n",
       "      <td>Элементы линейной алгебрыТема 1.1. линейные пр...</td>\n",
       "      <td>hse</td>\n",
       "      <td></td>\n",
       "      <td>элемент линейный алгебрытема линейный простран...</td>\n",
       "      <td>{'час': 0.271, 'функция': 0.227, 'случайный': ...</td>\n",
       "    </tr>\n",
       "    <tr>\n",
       "      <th>1</th>\n",
       "      <td>09.03.01</td>\n",
       "      <td>Вычислительные машины, комплексы, системы и сети</td>\n",
       "      <td>Академический бакалавр</td>\n",
       "      <td>Математика</td>\n",
       "      <td>2</td>\n",
       "      <td>2014</td>\n",
       "      <td>https://www.hse.ru/edu/courses/292700221</td>\n",
       "      <td>Математика</td>\n",
       "      <td>Элементы линейной алгебрыТема 1.1. линейные пр...</td>\n",
       "      <td>hse</td>\n",
       "      <td></td>\n",
       "      <td>элемент линейный алгебрытема линейный простран...</td>\n",
       "      <td>{'час': 0.271, 'функция': 0.227, 'случайный': ...</td>\n",
       "    </tr>\n",
       "    <tr>\n",
       "      <th>2</th>\n",
       "      <td>09.03.01</td>\n",
       "      <td>Вычислительные машины, комплексы, системы и сети</td>\n",
       "      <td>Академический бакалавр</td>\n",
       "      <td>Физика</td>\n",
       "      <td>1</td>\n",
       "      <td>2014</td>\n",
       "      <td>https://www.hse.ru/edu/courses/292684119</td>\n",
       "      <td>Физика</td>\n",
       "      <td>Тема 1. Механика. Механические колебания и вол...</td>\n",
       "      <td>hse</td>\n",
       "      <td></td>\n",
       "      <td>механик механический колебание волныкинематика...</td>\n",
       "      <td>{'колебание': 0.271, 'энергия': 0.244, 'вектор...</td>\n",
       "    </tr>\n",
       "    <tr>\n",
       "      <th>3</th>\n",
       "      <td>09.03.01</td>\n",
       "      <td>Вычислительные машины, комплексы, системы и сети</td>\n",
       "      <td>Академический бакалавр</td>\n",
       "      <td>Физика</td>\n",
       "      <td>2</td>\n",
       "      <td>2014</td>\n",
       "      <td>https://www.hse.ru/edu/courses/292684119</td>\n",
       "      <td>Физика</td>\n",
       "      <td>Тема 1. Механика. Механические колебания и вол...</td>\n",
       "      <td>hse</td>\n",
       "      <td></td>\n",
       "      <td>механик механический колебание волныкинематика...</td>\n",
       "      <td>{'колебание': 0.271, 'энергия': 0.244, 'вектор...</td>\n",
       "    </tr>\n",
       "    <tr>\n",
       "      <th>4</th>\n",
       "      <td>09.03.01</td>\n",
       "      <td>Вычислительные машины, комплексы, системы и сети</td>\n",
       "      <td>Академический бакалавр</td>\n",
       "      <td>Основы права</td>\n",
       "      <td>1</td>\n",
       "      <td>2014</td>\n",
       "      <td>https://online.edu.ru/public/course.xhtml?face...</td>\n",
       "      <td>Основы права</td>\n",
       "      <td>Что такое право? Российское право на правовой...</td>\n",
       "      <td>itmo</td>\n",
       "      <td></td>\n",
       "      <td>такой право российский право правовой карта ми...</td>\n",
       "      <td>{'право': 0.697, 'ответственность': 0.283, 'пр...</td>\n",
       "    </tr>\n",
       "  </tbody>\n",
       "</table>\n",
       "</div>"
      ],
      "text/plain": [
       "  SUBFIELDCODE                                      SUBFIELDNAME  \\\n",
       "0     09.03.01  Вычислительные машины, комплексы, системы и сети   \n",
       "1     09.03.01  Вычислительные машины, комплексы, системы и сети   \n",
       "2     09.03.01  Вычислительные машины, комплексы, системы и сети   \n",
       "3     09.03.01  Вычислительные машины, комплексы, системы и сети   \n",
       "4     09.03.01  Вычислительные машины, комплексы, системы и сети   \n",
       "\n",
       "                   DEGREE       SUBJECT  SEMESTER  START_YEAR  \\\n",
       "0  Академический бакалавр    Математика         1        2014   \n",
       "1  Академический бакалавр    Математика         2        2014   \n",
       "2  Академический бакалавр        Физика         1        2014   \n",
       "3  Академический бакалавр        Физика         2        2014   \n",
       "4  Академический бакалавр  Основы права         1        2014   \n",
       "\n",
       "                                                 URL Название курса  \\\n",
       "0           https://www.hse.ru/edu/courses/292700221     Математика   \n",
       "1           https://www.hse.ru/edu/courses/292700221     Математика   \n",
       "2           https://www.hse.ru/edu/courses/292684119         Физика   \n",
       "3           https://www.hse.ru/edu/courses/292684119         Физика   \n",
       "4  https://online.edu.ru/public/course.xhtml?face...  Основы права    \n",
       "\n",
       "                                    Содержание курса Дата сет Ключевые слова  \\\n",
       "0  Элементы линейной алгебрыТема 1.1. линейные пр...      hse                  \n",
       "1  Элементы линейной алгебрыТема 1.1. линейные пр...      hse                  \n",
       "2  Тема 1. Механика. Механические колебания и вол...      hse                  \n",
       "3  Тема 1. Механика. Механические колебания и вол...      hse                  \n",
       "4   Что такое право? Российское право на правовой...     itmo                  \n",
       "\n",
       "                                   Чистое содержание  \\\n",
       "0  элемент линейный алгебрытема линейный простран...   \n",
       "1  элемент линейный алгебрытема линейный простран...   \n",
       "2  механик механический колебание волныкинематика...   \n",
       "3  механик механический колебание волныкинематика...   \n",
       "4  такой право российский право правовой карта ми...   \n",
       "\n",
       "                                     keywords_tf-idf  \n",
       "0  {'час': 0.271, 'функция': 0.227, 'случайный': ...  \n",
       "1  {'час': 0.271, 'функция': 0.227, 'случайный': ...  \n",
       "2  {'колебание': 0.271, 'энергия': 0.244, 'вектор...  \n",
       "3  {'колебание': 0.271, 'энергия': 0.244, 'вектор...  \n",
       "4  {'право': 0.697, 'ответственность': 0.283, 'пр...  "
      ]
     },
     "execution_count": 93,
     "metadata": {},
     "output_type": "execute_result"
    }
   ],
   "source": [
    "data.head()"
   ]
  },
  {
   "cell_type": "code",
   "execution_count": 94,
   "metadata": {},
   "outputs": [],
   "source": [
    "data['key_words'] = itmo_data['new_keywords']"
   ]
  },
  {
   "cell_type": "code",
   "execution_count": 96,
   "metadata": {},
   "outputs": [],
   "source": [
    "data = data[['SUBFIELDCODE', 'SUBFIELDNAME', 'DEGREE', 'SUBJECT', 'SEMESTER', 'START_YEAR', 'URL', \n",
    "            'Название курса', 'Содержание курса', 'Дата сет', 'Ключевые слова', 'key_words']]"
   ]
  },
  {
   "cell_type": "code",
   "execution_count": 103,
   "metadata": {
    "scrolled": true
   },
   "outputs": [
    {
     "name": "stderr",
     "output_type": "stream",
     "text": [
      "<ipython-input-103-685b39d2bc35>:1: SettingWithCopyWarning: \n",
      "A value is trying to be set on a copy of a slice from a DataFrame.\n",
      "Try using .loc[row_indexer,col_indexer] = value instead\n",
      "\n",
      "See the caveats in the documentation: https://pandas.pydata.org/pandas-docs/stable/user_guide/indexing.html#returning-a-view-versus-a-copy\n",
      "  data['all_keywords'] = itmo_data['clear_keywords']\n"
     ]
    }
   ],
   "source": [
    "data['all_keywords'] = itmo_data['clear_keywords']"
   ]
  },
  {
   "cell_type": "code",
   "execution_count": 104,
   "metadata": {},
   "outputs": [
    {
     "data": {
      "text/html": [
       "<div>\n",
       "<style scoped>\n",
       "    .dataframe tbody tr th:only-of-type {\n",
       "        vertical-align: middle;\n",
       "    }\n",
       "\n",
       "    .dataframe tbody tr th {\n",
       "        vertical-align: top;\n",
       "    }\n",
       "\n",
       "    .dataframe thead th {\n",
       "        text-align: right;\n",
       "    }\n",
       "</style>\n",
       "<table border=\"1\" class=\"dataframe\">\n",
       "  <thead>\n",
       "    <tr style=\"text-align: right;\">\n",
       "      <th></th>\n",
       "      <th>SUBFIELDCODE</th>\n",
       "      <th>SUBFIELDNAME</th>\n",
       "      <th>DEGREE</th>\n",
       "      <th>SUBJECT</th>\n",
       "      <th>SEMESTER</th>\n",
       "      <th>START_YEAR</th>\n",
       "      <th>URL</th>\n",
       "      <th>Название курса</th>\n",
       "      <th>Содержание курса</th>\n",
       "      <th>Дата сет</th>\n",
       "      <th>Ключевые слова</th>\n",
       "      <th>key_words</th>\n",
       "      <th>all_keywords</th>\n",
       "    </tr>\n",
       "  </thead>\n",
       "  <tbody>\n",
       "    <tr>\n",
       "      <th>0</th>\n",
       "      <td>09.03.01</td>\n",
       "      <td>Вычислительные машины, комплексы, системы и сети</td>\n",
       "      <td>Академический бакалавр</td>\n",
       "      <td>Математика</td>\n",
       "      <td>1</td>\n",
       "      <td>2014</td>\n",
       "      <td>https://www.hse.ru/edu/courses/292700221</td>\n",
       "      <td>Математика</td>\n",
       "      <td>Элементы линейной алгебрыТема 1.1. линейные пр...</td>\n",
       "      <td>hse</td>\n",
       "      <td></td>\n",
       "      <td>вероятность, распределение, экстремум, сложной...</td>\n",
       "      <td>вероятности, распределения, экстремума, вектор...</td>\n",
       "    </tr>\n",
       "    <tr>\n",
       "      <th>1</th>\n",
       "      <td>09.03.01</td>\n",
       "      <td>Вычислительные машины, комплексы, системы и сети</td>\n",
       "      <td>Академический бакалавр</td>\n",
       "      <td>Математика</td>\n",
       "      <td>2</td>\n",
       "      <td>2014</td>\n",
       "      <td>https://www.hse.ru/edu/courses/292700221</td>\n",
       "      <td>Математика</td>\n",
       "      <td>Элементы линейной алгебрыТема 1.1. линейные пр...</td>\n",
       "      <td>hse</td>\n",
       "      <td></td>\n",
       "      <td>вероятность, распределение, экстремум, сложной...</td>\n",
       "      <td>вероятности, распределения, экстремума, вектор...</td>\n",
       "    </tr>\n",
       "    <tr>\n",
       "      <th>2</th>\n",
       "      <td>09.03.01</td>\n",
       "      <td>Вычислительные машины, комплексы, системы и сети</td>\n",
       "      <td>Академический бакалавр</td>\n",
       "      <td>Физика</td>\n",
       "      <td>1</td>\n",
       "      <td>2014</td>\n",
       "      <td>https://www.hse.ru/edu/courses/292684119</td>\n",
       "      <td>Физика</td>\n",
       "      <td>Тема 1. Механика. Механические колебания и вол...</td>\n",
       "      <td>hse</td>\n",
       "      <td></td>\n",
       "      <td>импульс, поток, напряжённость, вектор, электро...</td>\n",
       "      <td>импульс, поток, напряженности, вектор, электро...</td>\n",
       "    </tr>\n",
       "    <tr>\n",
       "      <th>3</th>\n",
       "      <td>09.03.01</td>\n",
       "      <td>Вычислительные машины, комплексы, системы и сети</td>\n",
       "      <td>Академический бакалавр</td>\n",
       "      <td>Физика</td>\n",
       "      <td>2</td>\n",
       "      <td>2014</td>\n",
       "      <td>https://www.hse.ru/edu/courses/292684119</td>\n",
       "      <td>Физика</td>\n",
       "      <td>Тема 1. Механика. Механические колебания и вол...</td>\n",
       "      <td>hse</td>\n",
       "      <td></td>\n",
       "      <td>импульс, поток, напряжённость, вектор, электро...</td>\n",
       "      <td>импульс, поток, напряженности, вектор, электро...</td>\n",
       "    </tr>\n",
       "    <tr>\n",
       "      <th>4</th>\n",
       "      <td>09.03.01</td>\n",
       "      <td>Вычислительные машины, комплексы, системы и сети</td>\n",
       "      <td>Академический бакалавр</td>\n",
       "      <td>Основы права</td>\n",
       "      <td>1</td>\n",
       "      <td>2014</td>\n",
       "      <td>https://online.edu.ru/public/course.xhtml?face...</td>\n",
       "      <td>Основы права</td>\n",
       "      <td>Что такое право? Российское право на правовой...</td>\n",
       "      <td>itmo</td>\n",
       "      <td></td>\n",
       "      <td>семья, правонарушение, правового регулирования...</td>\n",
       "      <td>семья, правонарушения, имущественные, правовог...</td>\n",
       "    </tr>\n",
       "  </tbody>\n",
       "</table>\n",
       "</div>"
      ],
      "text/plain": [
       "  SUBFIELDCODE                                      SUBFIELDNAME  \\\n",
       "0     09.03.01  Вычислительные машины, комплексы, системы и сети   \n",
       "1     09.03.01  Вычислительные машины, комплексы, системы и сети   \n",
       "2     09.03.01  Вычислительные машины, комплексы, системы и сети   \n",
       "3     09.03.01  Вычислительные машины, комплексы, системы и сети   \n",
       "4     09.03.01  Вычислительные машины, комплексы, системы и сети   \n",
       "\n",
       "                   DEGREE       SUBJECT  SEMESTER  START_YEAR  \\\n",
       "0  Академический бакалавр    Математика         1        2014   \n",
       "1  Академический бакалавр    Математика         2        2014   \n",
       "2  Академический бакалавр        Физика         1        2014   \n",
       "3  Академический бакалавр        Физика         2        2014   \n",
       "4  Академический бакалавр  Основы права         1        2014   \n",
       "\n",
       "                                                 URL Название курса  \\\n",
       "0           https://www.hse.ru/edu/courses/292700221     Математика   \n",
       "1           https://www.hse.ru/edu/courses/292700221     Математика   \n",
       "2           https://www.hse.ru/edu/courses/292684119         Физика   \n",
       "3           https://www.hse.ru/edu/courses/292684119         Физика   \n",
       "4  https://online.edu.ru/public/course.xhtml?face...  Основы права    \n",
       "\n",
       "                                    Содержание курса Дата сет Ключевые слова  \\\n",
       "0  Элементы линейной алгебрыТема 1.1. линейные пр...      hse                  \n",
       "1  Элементы линейной алгебрыТема 1.1. линейные пр...      hse                  \n",
       "2  Тема 1. Механика. Механические колебания и вол...      hse                  \n",
       "3  Тема 1. Механика. Механические колебания и вол...      hse                  \n",
       "4   Что такое право? Российское право на правовой...     itmo                  \n",
       "\n",
       "                                           key_words  \\\n",
       "0  вероятность, распределение, экстремум, сложной...   \n",
       "1  вероятность, распределение, экстремум, сложной...   \n",
       "2  импульс, поток, напряжённость, вектор, электро...   \n",
       "3  импульс, поток, напряжённость, вектор, электро...   \n",
       "4  семья, правонарушение, правового регулирования...   \n",
       "\n",
       "                                        all_keywords  \n",
       "0  вероятности, распределения, экстремума, вектор...  \n",
       "1  вероятности, распределения, экстремума, вектор...  \n",
       "2  импульс, поток, напряженности, вектор, электро...  \n",
       "3  импульс, поток, напряженности, вектор, электро...  \n",
       "4  семья, правонарушения, имущественные, правовог...  "
      ]
     },
     "execution_count": 104,
     "metadata": {},
     "output_type": "execute_result"
    }
   ],
   "source": [
    "data.head()"
   ]
  },
  {
   "cell_type": "code",
   "execution_count": 110,
   "metadata": {},
   "outputs": [
    {
     "name": "stderr",
     "output_type": "stream",
     "text": [
      "<ipython-input-110-cf87c490c7c0>:1: SettingWithCopyWarning: \n",
      "A value is trying to be set on a copy of a slice from a DataFrame.\n",
      "Try using .loc[row_indexer,col_indexer] = value instead\n",
      "\n",
      "See the caveats in the documentation: https://pandas.pydata.org/pandas-docs/stable/user_guide/indexing.html#returning-a-view-versus-a-copy\n",
      "  data['key_words'] = data['key_words'].apply(lambda x : re.sub('ит', 'it', x) if re.search('[a-z]+ит[a-z]+', s) else x)\n"
     ]
    }
   ],
   "source": [
    "data['key_words'] = data['key_words'].apply(lambda x : re.sub('ит', 'it', x) if re.search('[a-z]+ит[a-z]+', s) else x)"
   ]
  },
  {
   "cell_type": "code",
   "execution_count": 111,
   "metadata": {},
   "outputs": [
    {
     "data": {
      "text/plain": [
       "0        вероятность, распределение, экстремум, сложной...\n",
       "1        вероятность, распределение, экстремум, сложной...\n",
       "2        импульс, поток, напряжённость, вектор, электро...\n",
       "3        импульс, поток, напряжённость, вектор, электро...\n",
       "4        семья, правонарушение, правового регулирования...\n",
       "                               ...                        \n",
       "53108                                                     \n",
       "53109    научных документовструктура текста, среде labv...\n",
       "53110                                                     \n",
       "53111    результативность, государственного управления ...\n",
       "53112                                                     \n",
       "Name: key_words, Length: 53113, dtype: object"
      ]
     },
     "execution_count": 111,
     "metadata": {},
     "output_type": "execute_result"
    }
   ],
   "source": [
    "data['key_words']"
   ]
  },
  {
   "cell_type": "code",
   "execution_count": 115,
   "metadata": {},
   "outputs": [
    {
     "data": {
      "text/plain": [
       "'научных документовструктура текста, среде labview, стандарты оформления,  '"
      ]
     },
     "execution_count": 115,
     "metadata": {},
     "output_type": "execute_result"
    }
   ],
   "source": [
    "all_keywords[-4]"
   ]
  },
  {
   "cell_type": "code",
   "execution_count": null,
   "metadata": {},
   "outputs": [],
   "source": [
    "change = {'документовструктура' : 'структура документов', 'научных документовструктура текста' : 'структура научных документов',\n",
    "         'systemsinformation': 'systems information', 'statisticspopulation' : 'statistics population', 'цепейэлектрическая' : 'электрические цепи'б\n",
    "         'processproject': 'process project', 'management1' : 'management', 'managementinvestment': 'management investment',\n",
    "         'ffff' : '', 'r2классификация' : 'r2 классификация', 'деятельностипонятие' : 'понятие деятельности',\n",
    "          'деятельностивиды' : 'виды деятельности', 'introduction1' : '', 'стартапаисточник' : 'стартап', 'лидерствовид' : 'лидерство',\n",
    "          'аналитикаструктура' : 'структура аналитики', 'моделимультиферроики' : 'модели мультиферроики',\n",
    "          'технологийблок' : 'блок технологий', 'клиентаот' : 'клиент аот', 'managementequivalent' :'management equivalent',\n",
    "          'интервьюфокус' : 'интервью', 'информацииконтент' : 'информационный контент', 'исследованияпонятие' : '',\n",
    "          'исследованиитеории' : ''\n",
    "         }"
   ]
  },
  {
   "cell_type": "code",
   "execution_count": 118,
   "metadata": {},
   "outputs": [],
   "source": [
    "from sklearn.feature_extraction.text import CountVectorizer"
   ]
  },
  {
   "cell_type": "code",
   "execution_count": 119,
   "metadata": {},
   "outputs": [],
   "source": [
    "# Getting top n grams function\n",
    "# Arguments:\n",
    "#   - corpuse, we want to get ngrams from, number of words to output\n",
    "#     and n gram range\n",
    "#        corpus : pd.Series, number_of_words : int = None, n_grams : int = 1\n",
    "# Rerutns:\n",
    "#   - words frequencies list\n",
    "#       (list)\n",
    "def get_top_n_grams(corpus : pd.Series, number_of_words : int = None, n_grams : int = 1) -> list:\n",
    "    # vectorizing corpus using Count vectorizer\n",
    "    vec = CountVectorizer(ngram_range=(n_grams, n_grams)).fit(corpus)\n",
    "    \n",
    "    # getting bag of words\n",
    "    bag_of_words = vec.transform(corpus)\n",
    "    \n",
    "    # getting words frequencies\n",
    "    sum_words = bag_of_words.sum(axis=0) \n",
    "    \n",
    "    # building list of words and their freqs\n",
    "    words_freq = [(word, sum_words[0, idx]) for word, idx in vec.vocabulary_.items()]\n",
    "    \n",
    "    # sorting words freq list\n",
    "    words_freq = sorted(words_freq, key = lambda x: x[1], reverse=True)\n",
    "    \n",
    "    return words_freq[:number_of_words]"
   ]
  },
  {
   "cell_type": "code",
   "execution_count": 180,
   "metadata": {},
   "outputs": [],
   "source": [
    "change = {'документовструктура' : 'структура документов', 'научных документовструктура текста' : 'структура научных документов',\n",
    "         'systemsinformation': 'systems information', 'statisticspopulation' : 'statistics population', 'цепейэлектрическая' : 'электрические цепи',\n",
    "         'processproject': 'process project', 'management1' : 'management', 'managementinvestment': 'management investment',\n",
    "         'ffff' : '', 'r2классификация' : 'r2 классификация', 'деятельностипонятие' : 'понятие деятельности',\n",
    "          'деятельностивиды' : 'виды деятельности', 'introduction1' : '', 'стартапаисточник' : 'стартап', 'лидерствовид' : 'лидерство',\n",
    "          'аналитикаструктура' : 'структура аналитики', 'моделимультиферроики' : 'модели мультиферроики',\n",
    "          'технологийблок' : 'блок технологий', 'клиентаот' : 'клиент аот', 'managementequivalent' :'management equivalent',\n",
    "          'интервьюфокус' : 'интервью', 'информацииконтент' : 'информационный контент', 'исследованияпонятие' : '',\n",
    "          'исследованиитеории' : '', 'студентоввыступление': 'выступление студентов', 'тматрица' : 'матрица',\n",
    "          'tariffstrategic' : 'tariff strategic', 'debateenvironment' : 'debate environment', 'ситуациейнаправления' : '',\n",
    "          'structureidealism' : 'structure idealism','processmarkov' : 'Markov process', 'processpoisson' : 'Poisson process',\n",
    "          'chaingaussian' : 'Gaussian chain', 'проектасоздание' : 'создание проекта', 'кубитовклассическая' : 'кубитов классическая',\n",
    "          'presentationsguest' : 'presentations guest', 'сетейопределение' : 'определение сетей', 'zabbixустановка' : 'zabbix установка',\n",
    "          'деятельностьпонятие' : 'понятие деятельности', 'заданиякомпозиция' : 'композиция', 'буклеттестирование' : '',\n",
    "          'интерфейсастуденты': 'интерфейс', 'закладоккомпьютерные' : 'компьютерные закладки', 'поставокоптимизация' : 'оптимизация поставок',\n",
    "          'гмувведение' : 'введение в гму', 'стэкнаследование' : 'стэк, наследование', 'мальтусэкономическая' : 'экономические взгляды Мальтуса',\n",
    "          'discourselexicone' : 'lexicone', 'morphologysyntax' : 'morphology syntax', 'чтениеграмматика' : 'чтение, грамматика',\n",
    "          'managementproject': 'management project', 'businessproduct' : 'business product', 'businessbusiness' : '',\n",
    "          'проектахбизнес' : 'бизнес проекты', 'innovationprotection' : 'innovation protection', 'поставоктехнология' : 'технология поставок',\n",
    "          'отношенияфункция' : 'функция отношения', 'эйконаланелинейные' : 'уравнение эйконала', 'интеграловосновные' : 'основные интегралы',\n",
    "          'частицамидвижение': 'движение частиц', 'корпорациисистема' : 'система корпораций', 'этапасодержание': '',\n",
    "          'инженериистратегия' : 'стратегия инженерии', 'компанияпринципы' : 'принципы компании','обеспечениясоздание' : 'создание обеспечения',\n",
    "          'материаловедение' : 'ведение материалов', 'системераздел' : '', 'валентностипонятие' : 'понятие валентности',\n",
    "          'pythonалгоритмы' : 'python алгоритмы', 'интернетработа' : 'работа в интернете', 'данныеконцепция' : 'концепция данных',\n",
    "          '2вязкая' : 'вязкая', 'алгоритмывведение' : 'введение в алгоритмы', 'techniquesnaive' : 'naive techniques', \n",
    "          'selectionregression' : 'selection regression', 'industriestopic' : 'industries topic', 'stylesequilibrium' : 'styles equilibrium',\n",
    "          'правапредмет' : 'предмет права', 'marketinvestment' : 'market investment', 'анализбюджетирование' : 'анализ бюджетирования',\n",
    "          'тестовпрактические' : '', 'мышлениимышление': 'мышление', 'восприятииосновные' : 'основные восприятия',\n",
    "          'перспективуоценка' : 'оценка перспективы', 'системыосновные' : '', 'типологияотношение' : 'типология отношений',\n",
    "          'физикаобсуждение' : 'обсуждение физики', 'бизнесатематическая' : 'бизнес', 'аспектформулирование'  :'формулилование',\n",
    "          'имуществаструктура' : 'структура имущества', 'капиталаструктура' : 'структура капитала', 'креативабренд' : 'креативный бренд',\n",
    "          'investmentsvaluation' : 'investments valuation', 'discussionsocial' : 'social discussion', 'управлениясравнение' : 'сравнение уравление',\n",
    "          'csdiscuss' : 'cs discuss', 'semanticspredicate' : 'semantics predicate', '1международное' : 'международное', 'излучателиплоские' : 'плоские излучатели',\n",
    "          'мышлениеоперирование' : 'мышление, оперирование', 'проектамипонятие' : 'понятие проекта', 'памятиотличительные' : 'память',\n",
    "          'сравнениеисточники' : 'источники сравнения', 'проектамиосновные' : '', 'otherclassification' : 'other classification',\n",
    "          'проектаосновные' : 'основные проекты', 'visionfechner' : 'vision fechner', 'переходыфлуктуации' : 'переходы флуктуации',\n",
    "          'modelsdynamic' : 'models dynamic', 'marketingsocial' : 'social marketing',  'развитияопределение' : 'определение развития',\n",
    "          'медиарынокпонятие': 'понятие медиарынка', 'расчетоввизуализация' : 'визуализация расчетов', 'обеспеченияосновы' : 'основы обеспечения',\n",
    "          'zeитvertreibтема' : 'zeitvertreib', 'системаходнофотонные' : 'фотон', 'персоналаработа' : 'работа персонала',\n",
    "          'поискаусловие' : 'поиск условия', 'усилителиназначение' : 'назначение усилителей', 'компаниипонятие' : 'понятие компанияя',\n",
    "          'телевиденияобработка' : 'обработка на телевидение', 'радиоуправлениятема' : 'радиоуправление','массивовалгоритм' : 'алгоритм с массивами',\n",
    "          'программпараллельные' : 'параллельное программирование', 'сверхрешеткахспин' : 'решетка, спин', \n",
    "          'поведенияэтика' : 'этика поведения', 'направленийэтап' : '', 'managementhistory' : 'management history',\n",
    "          'emergenceinternet' : 'emergence internet', 'methodscluster' : 'cluster methods', 'концентраторымост' : 'концентраторы, мост',\n",
    "          'selectiondimension': 'dimention selection', 'treeslinear' : 'linear trees', 'analysismachine' : 'analysis machine',\n",
    "          'rattleдерево' : 'rattle дерево', 'problemmarket' : 'market problem', 'controlprincipal' : 'control principal',\n",
    "          'projectорганизация' : 'организация проекта', '2системы' : 'системы', 'свободылинейные' : '',\n",
    "          'фильтровопределение' : 'определение фильтров', 'введениепредмет' : '', 'средсттехнико' : 'технические средства',\n",
    "          'средствуправление' : 'средства управления', 'постнеклассической' : 'неклассический пост', 'разработкаистория' : 'разработка истории',\n",
    "          'spssнабор' : 'spss набор', 'djangoнейросеть' : 'django нейросеть', 'структураопределение' : 'определение структуры',\n",
    "          'исследованийчистые' : 'чистые исследования', 'modelsproject' : 'project models', 'lorawanособенность' : 'lorawan особенность',\n",
    "          'уравнениевывод' : 'вывод уравнения', 'безопасностипонятие' : 'понятие безопасности', 'системыопределение' : 'определение системы',\n",
    "          'классыобработка' : 'обработка классов', 'gamesequilibrium' : 'games equilibrium','компьютераосновные' : 'компьютер',\n",
    "          'системмоделирование' : 'моделирование систем', 'анализасистемный' : 'системный анализ', 'courseintroduction' : '',\n",
    "          'моделиметодология' : 'модели методологии', 'введениеосновная' : '', 'графовтеорем' : 'теоремы на графах', \n",
    "          'функциипроизводящие' : 'функции', 'карьереособенности' : 'особенности карьеры', 'введениевведение' : '', \n",
    "          'softwarecmt' : 'software cmt', 'внутрифирменное' : 'фирменное', 'сетипротоколы' : 'протоколы сети',\n",
    "          'системинформационные' : 'информационные системы', 'statisticspopulation' : 'statistics population',\n",
    "          'цепейэлектрическая' : 'электрическая цепь', 'systemsinformation' : 'information systems',\n",
    "          'раннесредневековой' : 'средневековой'\n",
    "            \n",
    "         }"
   ]
  },
  {
   "cell_type": "code",
   "execution_count": 184,
   "metadata": {},
   "outputs": [
    {
     "name": "stderr",
     "output_type": "stream",
     "text": [
      "<ipython-input-184-380d4b12a83e>:2: SettingWithCopyWarning: \n",
      "A value is trying to be set on a copy of a slice from a DataFrame.\n",
      "Try using .loc[row_indexer,col_indexer] = value instead\n",
      "\n",
      "See the caveats in the documentation: https://pandas.pydata.org/pandas-docs/stable/user_guide/indexing.html#returning-a-view-versus-a-copy\n",
      "  data['key_words'] = data['key_words'].apply(lambda x: re.sub(key, item, x))\n"
     ]
    }
   ],
   "source": [
    "for key, item in change.items():\n",
    "    data['key_words'] = data['key_words'].apply(lambda x: re.sub(key, item, x))"
   ]
  },
  {
   "cell_type": "code",
   "execution_count": 190,
   "metadata": {},
   "outputs": [
    {
     "data": {
      "text/plain": [
       "0        вероятность, распределение, экстремум, сложной...\n",
       "1        вероятность, распределение, экстремум, сложной...\n",
       "2        импульс, поток, напряжённость, вектор, электро...\n",
       "3        импульс, поток, напряжённость, вектор, электро...\n",
       "4        семья, правонарушение, правового регулирования...\n",
       "                               ...                        \n",
       "53108                                                     \n",
       "53109    научных структура документов текста, среде lab...\n",
       "53110                                                     \n",
       "53111    результативность, государственного управления ...\n",
       "53112                                                     \n",
       "Name: key_words, Length: 53113, dtype: object"
      ]
     },
     "execution_count": 190,
     "metadata": {},
     "output_type": "execute_result"
    }
   ],
   "source": [
    "data['key_words']"
   ]
  },
  {
   "cell_type": "code",
   "execution_count": 192,
   "metadata": {},
   "outputs": [
    {
     "data": {
      "text/plain": [
       "SUBFIELDCODE                                                 09.03.01\n",
       "SUBFIELDNAME         Вычислительные машины, комплексы, системы и сети\n",
       "DEGREE                                         Академический бакалавр\n",
       "SUBJECT                                                    Математика\n",
       "SEMESTER                                                            1\n",
       "START_YEAR                                                       2014\n",
       "URL                          https://www.hse.ru/edu/courses/292700221\n",
       "Название курса                                             Математика\n",
       "Содержание курса    Элементы линейной алгебрыТема 1.1. линейные пр...\n",
       "Дата сет                                                          hse\n",
       "Ключевые слова                                                       \n",
       "key_words           вероятность, распределение, экстремум, сложной...\n",
       "all_keywords        вероятности, распределения, экстремума, вектор...\n",
       "Name: 0, dtype: object"
      ]
     },
     "execution_count": 192,
     "metadata": {},
     "output_type": "execute_result"
    }
   ],
   "source": [
    "data.iloc[0]"
   ]
  },
  {
   "cell_type": "code",
   "execution_count": 193,
   "metadata": {},
   "outputs": [
    {
     "data": {
      "text/plain": [
       "'вероятность, распределение, экстремум, сложной функции, переменных функции, линейных пространств векторы, линейных алгебраических уравнений, линейный коэффициент корреляции, случайная величина,  '"
      ]
     },
     "execution_count": 193,
     "metadata": {},
     "output_type": "execute_result"
    }
   ],
   "source": [
    "data.iloc[0]['key_words']"
   ]
  },
  {
   "cell_type": "code",
   "execution_count": 194,
   "metadata": {},
   "outputs": [
    {
     "data": {
      "text/plain": [
       "SUBFIELDCODE                                                 09.03.01\n",
       "SUBFIELDNAME         Вычислительные машины, комплексы, системы и сети\n",
       "DEGREE                                         Академический бакалавр\n",
       "SUBJECT                                           Физическая культура\n",
       "SEMESTER                                                            2\n",
       "START_YEAR                                                       2014\n",
       "URL                 https://online.edu.ru/public/course.xhtml?face...\n",
       "Название курса                                   Физическая культура \n",
       "Содержание курса     Тема 1. Общая концепция теории и методики физ...\n",
       "Дата сет                                                         itmo\n",
       "Ключевые слова      здоровый образ жизни студента, спорт, физиолог...\n",
       "key_words           физическими упражнениями, физической культуры,...\n",
       "all_keywords        физическими упражнениями, человека физиологиче...\n",
       "Name: 10, dtype: object"
      ]
     },
     "execution_count": 194,
     "metadata": {},
     "output_type": "execute_result"
    }
   ],
   "source": [
    "data.iloc[10]"
   ]
  },
  {
   "cell_type": "code",
   "execution_count": 195,
   "metadata": {},
   "outputs": [
    {
     "data": {
      "text/plain": [
       "'физическими упражнениями, физической культуры, здоровый образ жизни, центральная физической культуры, прикладной физической спорт, физическое воспитание,  '"
      ]
     },
     "execution_count": 195,
     "metadata": {},
     "output_type": "execute_result"
    }
   ],
   "source": [
    "data.iloc[10]['key_words']"
   ]
  },
  {
   "cell_type": "code",
   "execution_count": 197,
   "metadata": {},
   "outputs": [
    {
     "data": {
      "text/plain": [
       "SUBFIELDCODE                                                 09.03.02\n",
       "SUBFIELDNAME        Автоматизация и управление в образовательных с...\n",
       "DEGREE                                         Академический бакалавр\n",
       "SUBJECT                                              Иностранный язык\n",
       "SEMESTER                                                            2\n",
       "START_YEAR                                                       2014\n",
       "URL                          https://www.hse.ru/edu/courses/301401516\n",
       "Название курса                                       Иностранный язык\n",
       "Содержание курса    Личность. Описание внешности, физических харак...\n",
       "Дата сет                                                          hse\n",
       "Ключевые слова                                                       \n",
       "key_words           грамматика, коммуникативные humans living, язы...\n",
       "all_keywords        грамматика, коммуникативные humans living, язы...\n",
       "Name: 23, dtype: object"
      ]
     },
     "execution_count": 197,
     "metadata": {},
     "output_type": "execute_result"
    }
   ],
   "source": [
    "data.iloc[23]"
   ]
  },
  {
   "cell_type": "code",
   "execution_count": 198,
   "metadata": {},
   "outputs": [
    {
     "data": {
      "text/plain": [
       "'грамматика, коммуникативные humans living, языковые вокабуляр nouns, социальные обсуждения, коммуникативных ситуациях общения,  '"
      ]
     },
     "execution_count": 198,
     "metadata": {},
     "output_type": "execute_result"
    }
   ],
   "source": [
    "data.iloc[23]['key_words']"
   ]
  },
  {
   "cell_type": "code",
   "execution_count": 199,
   "metadata": {},
   "outputs": [],
   "source": [
    "data.to_csv('Data/itmo_23.04.2020_15:31.csv')"
   ]
  },
  {
   "cell_type": "code",
   "execution_count": null,
   "metadata": {},
   "outputs": [],
   "source": []
  }
 ],
 "metadata": {
  "kernelspec": {
   "display_name": "Python 3",
   "language": "python",
   "name": "python3"
  },
  "language_info": {
   "codemirror_mode": {
    "name": "ipython",
    "version": 3
   },
   "file_extension": ".py",
   "mimetype": "text/x-python",
   "name": "python",
   "nbconvert_exporter": "python",
   "pygments_lexer": "ipython3",
   "version": "3.8.2"
  }
 },
 "nbformat": 4,
 "nbformat_minor": 4
}
