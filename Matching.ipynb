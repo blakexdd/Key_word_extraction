{
 "cells": [
  {
   "cell_type": "markdown",
   "metadata": {
    "colab_type": "text",
    "id": "E_5-e_wzhzU9"
   },
   "source": [
    "# File: Matching.ipynb\n",
    "# Purpose: To match vacancies collected from\n",
    "1.   [HSE courses site](https://www.hse.ru/edu/courses/)\n",
    "2.   [Online edu site](https://online.edu.ru/public/courses)\n",
    "\n",
    "# to ITMO university educational programs\n",
    "# Programmer: VG6\n",
    "# Date: 08.04.2020\n",
    "\n",
    "\n"
   ]
  },
  {
   "cell_type": "markdown",
   "metadata": {
    "colab_type": "text",
    "id": "K2S7x0oJUj4W"
   },
   "source": [
    "# Loading data to pandas Data Frames and inspecting it "
   ]
  },
  {
   "cell_type": "code",
   "execution_count": 1,
   "metadata": {
    "colab": {
     "base_uri": "https://localhost:8080/",
     "height": 72
    },
    "colab_type": "code",
    "id": "410GGiDLx5ZV",
    "outputId": "9da6e778-614e-4c43-bbe5-b7bd0ce9c8e4"
   },
   "outputs": [],
   "source": [
    "import pandas as pd\n",
    "import re\n",
    "import matplotlib.pyplot as plt\n",
    "import seaborn as sns\n",
    "%matplotlib inline\n",
    "sns.set_style('darkgrid')"
   ]
  },
  {
   "cell_type": "code",
   "execution_count": 4,
   "metadata": {
    "colab": {},
    "colab_type": "code",
    "id": "-nT7wiP7Ui7M"
   },
   "outputs": [],
   "source": [
    "# readind data from csv files to pandas data frames\n",
    "itmo_subjects_data = pd.read_csv('Data/full_subj_comma.csv', encoding='WINDOWS-1251')\n",
    "hse_courses_data = pd.read_csv('Data/HSE_courses_data.csv', index_col=0)\n",
    "online_edu_courses = pd.read_csv('Data/online_edu_full.csv', index_col=0)"
   ]
  },
  {
   "cell_type": "code",
   "execution_count": 5,
   "metadata": {
    "colab": {
     "base_uri": "https://localhost:8080/",
     "height": 206
    },
    "colab_type": "code",
    "id": "B4_OYFR3k4iO",
    "outputId": "6435aef1-84b5-4b2a-8138-83f8751d30ca"
   },
   "outputs": [
    {
     "data": {
      "text/html": [
       "<div>\n",
       "<style scoped>\n",
       "    .dataframe tbody tr th:only-of-type {\n",
       "        vertical-align: middle;\n",
       "    }\n",
       "\n",
       "    .dataframe tbody tr th {\n",
       "        vertical-align: top;\n",
       "    }\n",
       "\n",
       "    .dataframe thead th {\n",
       "        text-align: right;\n",
       "    }\n",
       "</style>\n",
       "<table border=\"1\" class=\"dataframe\">\n",
       "  <thead>\n",
       "    <tr style=\"text-align: right;\">\n",
       "      <th></th>\n",
       "      <th>Unnamed: 0</th>\n",
       "      <th>SUBFIELDCODE</th>\n",
       "      <th>SUBFIELDNAME</th>\n",
       "      <th>DEGREE</th>\n",
       "      <th>SUBJECT</th>\n",
       "      <th>SEMESTER</th>\n",
       "      <th>START_YEAR</th>\n",
       "    </tr>\n",
       "  </thead>\n",
       "  <tbody>\n",
       "    <tr>\n",
       "      <th>0</th>\n",
       "      <td>0</td>\n",
       "      <td>09.03.01</td>\n",
       "      <td>Вычислительные машины, комплексы, системы и сети</td>\n",
       "      <td>Академический бакалавр</td>\n",
       "      <td>Математика</td>\n",
       "      <td>1</td>\n",
       "      <td>2014</td>\n",
       "    </tr>\n",
       "    <tr>\n",
       "      <th>1</th>\n",
       "      <td>1</td>\n",
       "      <td>09.03.01</td>\n",
       "      <td>Вычислительные машины, комплексы, системы и сети</td>\n",
       "      <td>Академический бакалавр</td>\n",
       "      <td>Математика</td>\n",
       "      <td>2</td>\n",
       "      <td>2014</td>\n",
       "    </tr>\n",
       "    <tr>\n",
       "      <th>2</th>\n",
       "      <td>2</td>\n",
       "      <td>09.03.01</td>\n",
       "      <td>Вычислительные машины, комплексы, системы и сети</td>\n",
       "      <td>Академический бакалавр</td>\n",
       "      <td>Физика</td>\n",
       "      <td>1</td>\n",
       "      <td>2014</td>\n",
       "    </tr>\n",
       "    <tr>\n",
       "      <th>3</th>\n",
       "      <td>3</td>\n",
       "      <td>09.03.01</td>\n",
       "      <td>Вычислительные машины, комплексы, системы и сети</td>\n",
       "      <td>Академический бакалавр</td>\n",
       "      <td>Физика</td>\n",
       "      <td>2</td>\n",
       "      <td>2014</td>\n",
       "    </tr>\n",
       "    <tr>\n",
       "      <th>4</th>\n",
       "      <td>4</td>\n",
       "      <td>09.03.01</td>\n",
       "      <td>Вычислительные машины, комплексы, системы и сети</td>\n",
       "      <td>Академический бакалавр</td>\n",
       "      <td>Основы права</td>\n",
       "      <td>1</td>\n",
       "      <td>2014</td>\n",
       "    </tr>\n",
       "  </tbody>\n",
       "</table>\n",
       "</div>"
      ],
      "text/plain": [
       "   Unnamed: 0 SUBFIELDCODE                                      SUBFIELDNAME  \\\n",
       "0           0     09.03.01  Вычислительные машины, комплексы, системы и сети   \n",
       "1           1     09.03.01  Вычислительные машины, комплексы, системы и сети   \n",
       "2           2     09.03.01  Вычислительные машины, комплексы, системы и сети   \n",
       "3           3     09.03.01  Вычислительные машины, комплексы, системы и сети   \n",
       "4           4     09.03.01  Вычислительные машины, комплексы, системы и сети   \n",
       "\n",
       "                   DEGREE       SUBJECT  SEMESTER  START_YEAR  \n",
       "0  Академический бакалавр    Математика         1        2014  \n",
       "1  Академический бакалавр    Математика         2        2014  \n",
       "2  Академический бакалавр        Физика         1        2014  \n",
       "3  Академический бакалавр        Физика         2        2014  \n",
       "4  Академический бакалавр  Основы права         1        2014  "
      ]
     },
     "execution_count": 5,
     "metadata": {},
     "output_type": "execute_result"
    }
   ],
   "source": [
    "# getting first five record in data frames\n",
    "itmo_subjects_data.head()"
   ]
  },
  {
   "cell_type": "code",
   "execution_count": 6,
   "metadata": {
    "colab": {
     "base_uri": "https://localhost:8080/",
     "height": 206
    },
    "colab_type": "code",
    "id": "wQ2-dP7EmOdY",
    "outputId": "d80a041b-58f6-408b-cec8-d684afa54f38"
   },
   "outputs": [
    {
     "data": {
      "text/html": [
       "<div>\n",
       "<style scoped>\n",
       "    .dataframe tbody tr th:only-of-type {\n",
       "        vertical-align: middle;\n",
       "    }\n",
       "\n",
       "    .dataframe tbody tr th {\n",
       "        vertical-align: top;\n",
       "    }\n",
       "\n",
       "    .dataframe thead th {\n",
       "        text-align: right;\n",
       "    }\n",
       "</style>\n",
       "<table border=\"1\" class=\"dataframe\">\n",
       "  <thead>\n",
       "    <tr style=\"text-align: right;\">\n",
       "      <th></th>\n",
       "      <th>URL</th>\n",
       "      <th>Название</th>\n",
       "      <th>Содержание учебной дисциплины</th>\n",
       "    </tr>\n",
       "  </thead>\n",
       "  <tbody>\n",
       "    <tr>\n",
       "      <th>0</th>\n",
       "      <td>https://www.hse.ru/edu/courses/303721815</td>\n",
       "      <td>Абстрактная математика</td>\n",
       "      <td>Introduction to Set Theory a. Definitions and ...</td>\n",
       "    </tr>\n",
       "    <tr>\n",
       "      <th>1</th>\n",
       "      <td>https://www.hse.ru/edu/courses/302785733</td>\n",
       "      <td>Автобиографический рассказ</td>\n",
       "      <td>Жанр автобиографической прозы и его спецификаВ...</td>\n",
       "    </tr>\n",
       "    <tr>\n",
       "      <th>2</th>\n",
       "      <td>https://www.hse.ru/edu/courses/292691508</td>\n",
       "      <td>Автоматизация ньюсрума и роботизированные проц...</td>\n",
       "      <td>Введение в дисциплину«Робо-журналистика», в пе...</td>\n",
       "    </tr>\n",
       "    <tr>\n",
       "      <th>3</th>\n",
       "      <td>https://www.hse.ru/edu/courses/292707512</td>\n",
       "      <td>Автоматизация проектных работ</td>\n",
       "      <td>Тема 1. Классификация задач автоматизированног...</td>\n",
       "    </tr>\n",
       "    <tr>\n",
       "      <th>4</th>\n",
       "      <td>https://www.hse.ru/edu/courses/292707516</td>\n",
       "      <td>Автоматизация проектных работ</td>\n",
       "      <td>Тема 1. Классификация задач автоматизированног...</td>\n",
       "    </tr>\n",
       "  </tbody>\n",
       "</table>\n",
       "</div>"
      ],
      "text/plain": [
       "                                        URL  \\\n",
       "0  https://www.hse.ru/edu/courses/303721815   \n",
       "1  https://www.hse.ru/edu/courses/302785733   \n",
       "2  https://www.hse.ru/edu/courses/292691508   \n",
       "3  https://www.hse.ru/edu/courses/292707512   \n",
       "4  https://www.hse.ru/edu/courses/292707516   \n",
       "\n",
       "                                            Название  \\\n",
       "0                             Абстрактная математика   \n",
       "1                         Автобиографический рассказ   \n",
       "2  Автоматизация ньюсрума и роботизированные проц...   \n",
       "3                      Автоматизация проектных работ   \n",
       "4                      Автоматизация проектных работ   \n",
       "\n",
       "                       Содержание учебной дисциплины  \n",
       "0  Introduction to Set Theory a. Definitions and ...  \n",
       "1  Жанр автобиографической прозы и его спецификаВ...  \n",
       "2  Введение в дисциплину«Робо-журналистика», в пе...  \n",
       "3  Тема 1. Классификация задач автоматизированног...  \n",
       "4  Тема 1. Классификация задач автоматизированног...  "
      ]
     },
     "execution_count": 6,
     "metadata": {},
     "output_type": "execute_result"
    }
   ],
   "source": [
    "hse_courses_data.head()"
   ]
  },
  {
   "cell_type": "code",
   "execution_count": 7,
   "metadata": {
    "colab": {
     "base_uri": "https://localhost:8080/",
     "height": 467
    },
    "colab_type": "code",
    "id": "vmOXznsnmQXF",
    "outputId": "f3535350-9a8e-4fc9-d8f5-c7db9f8ab419"
   },
   "outputs": [
    {
     "data": {
      "text/html": [
       "<div>\n",
       "<style scoped>\n",
       "    .dataframe tbody tr th:only-of-type {\n",
       "        vertical-align: middle;\n",
       "    }\n",
       "\n",
       "    .dataframe tbody tr th {\n",
       "        vertical-align: top;\n",
       "    }\n",
       "\n",
       "    .dataframe thead th {\n",
       "        text-align: right;\n",
       "    }\n",
       "</style>\n",
       "<table border=\"1\" class=\"dataframe\">\n",
       "  <thead>\n",
       "    <tr style=\"text-align: right;\">\n",
       "      <th></th>\n",
       "      <th>URL</th>\n",
       "      <th>Название курса</th>\n",
       "      <th>Входные требования</th>\n",
       "      <th>Ключевые слова-пререквизиты</th>\n",
       "      <th>Содержание курса</th>\n",
       "      <th>Ключевые слова содержания</th>\n",
       "      <th>Направления подготовки</th>\n",
       "    </tr>\n",
       "  </thead>\n",
       "  <tbody>\n",
       "    <tr>\n",
       "      <th>0</th>\n",
       "      <td>https://online.edu.ru/public/course.xhtml?face...</td>\n",
       "      <td>Теория игр\\n</td>\n",
       "      <td></td>\n",
       "      <td>NaN</td>\n",
       "      <td>1. Стратегические взаимодействия 2. Доминиру...</td>\n",
       "      <td>доминируемые стратегии, игры с несовершенной и...</td>\n",
       "      <td>41.03.04 Политология                          ...</td>\n",
       "    </tr>\n",
       "    <tr>\n",
       "      <th>1</th>\n",
       "      <td>https://online.edu.ru/public/course.xhtml?face...</td>\n",
       "      <td>Методы обработки навигационной измерительной и...</td>\n",
       "      <td></td>\n",
       "      <td>NaN</td>\n",
       "      <td>В курсе рассматриваются следующие темы:   Эл...</td>\n",
       "      <td>scilab, оптимальные оценки, случайные последов...</td>\n",
       "      <td>24.03.02 Системы управления движением и навига...</td>\n",
       "    </tr>\n",
       "    <tr>\n",
       "      <th>2</th>\n",
       "      <td>https://online.edu.ru/public/course.xhtml?face...</td>\n",
       "      <td>Методы вычислительной математики\\n</td>\n",
       "      <td></td>\n",
       "      <td>NaN</td>\n",
       "      <td>Раздел 1. Элементарная теория погрешностей....</td>\n",
       "      <td>методы решения нелинейных уравнений, численное...</td>\n",
       "      <td>01.03.02 Прикладная математика и информатика  ...</td>\n",
       "    </tr>\n",
       "    <tr>\n",
       "      <th>3</th>\n",
       "      <td>https://online.edu.ru/public/course.xhtml?face...</td>\n",
       "      <td>Функциональное программирование: базовый курс\\n</td>\n",
       "      <td></td>\n",
       "      <td>NaN</td>\n",
       "      <td>В курсе рассматриваются следующие темы: 1. В...</td>\n",
       "      <td>рекурсия, списки в языке lisp, символы в языке...</td>\n",
       "      <td>09.00.00 Информатика и вычислительная техника ...</td>\n",
       "    </tr>\n",
       "    <tr>\n",
       "      <th>4</th>\n",
       "      <td>https://online.edu.ru/public/course.xhtml?face...</td>\n",
       "      <td>Веб-программирование\\n</td>\n",
       "      <td></td>\n",
       "      <td>NaN</td>\n",
       "      <td>В курсе рассматриваются следующие темы:  1. ...</td>\n",
       "      <td>позиционирование, разметка, html, декоративные...</td>\n",
       "      <td>09.00.00 Информатика и вычислительная техника ...</td>\n",
       "    </tr>\n",
       "  </tbody>\n",
       "</table>\n",
       "</div>"
      ],
      "text/plain": [
       "                                                 URL  \\\n",
       "0  https://online.edu.ru/public/course.xhtml?face...   \n",
       "1  https://online.edu.ru/public/course.xhtml?face...   \n",
       "2  https://online.edu.ru/public/course.xhtml?face...   \n",
       "3  https://online.edu.ru/public/course.xhtml?face...   \n",
       "4  https://online.edu.ru/public/course.xhtml?face...   \n",
       "\n",
       "                                      Название курса Входные требования  \\\n",
       "0                                       Теория игр\\n                      \n",
       "1  Методы обработки навигационной измерительной и...                      \n",
       "2                 Методы вычислительной математики\\n                      \n",
       "3    Функциональное программирование: базовый курс\\n                      \n",
       "4                             Веб-программирование\\n                      \n",
       "\n",
       "  Ключевые слова-пререквизиты  \\\n",
       "0                         NaN   \n",
       "1                         NaN   \n",
       "2                         NaN   \n",
       "3                         NaN   \n",
       "4                         NaN   \n",
       "\n",
       "                                    Содержание курса  \\\n",
       "0    1. Стратегические взаимодействия 2. Доминиру...   \n",
       "1    В курсе рассматриваются следующие темы:   Эл...   \n",
       "2     Раздел 1. Элементарная теория погрешностей....   \n",
       "3    В курсе рассматриваются следующие темы: 1. В...   \n",
       "4    В курсе рассматриваются следующие темы:  1. ...   \n",
       "\n",
       "                           Ключевые слова содержания  \\\n",
       "0  доминируемые стратегии, игры с несовершенной и...   \n",
       "1  scilab, оптимальные оценки, случайные последов...   \n",
       "2  методы решения нелинейных уравнений, численное...   \n",
       "3  рекурсия, списки в языке lisp, символы в языке...   \n",
       "4  позиционирование, разметка, html, декоративные...   \n",
       "\n",
       "                              Направления подготовки  \n",
       "0  41.03.04 Политология                          ...  \n",
       "1  24.03.02 Системы управления движением и навига...  \n",
       "2  01.03.02 Прикладная математика и информатика  ...  \n",
       "3  09.00.00 Информатика и вычислительная техника ...  \n",
       "4  09.00.00 Информатика и вычислительная техника ...  "
      ]
     },
     "execution_count": 7,
     "metadata": {},
     "output_type": "execute_result"
    }
   ],
   "source": [
    "online_edu_courses.head()"
   ]
  },
  {
   "cell_type": "markdown",
   "metadata": {
    "colab_type": "text",
    "id": "fPrzlXK2xmfu"
   },
   "source": [
    "# Performing EDA"
   ]
  },
  {
   "cell_type": "markdown",
   "metadata": {
    "colab_type": "text",
    "id": "9KIZODyuCcNU"
   },
   "source": [
    "## Getting only usefull rows"
   ]
  },
  {
   "cell_type": "code",
   "execution_count": 8,
   "metadata": {
    "colab": {},
    "colab_type": "code",
    "id": "mjTtdP30mS5b"
   },
   "outputs": [],
   "source": [
    "# creating conditions to leave onlu valuable rows\n",
    "mask = itmo_subjects_data['START_YEAR'] >= 2014\n",
    "mask1 = itmo_subjects_data['SUBFIELDCODE'] != 'ZZZZZZ'\n",
    "mask2 = itmo_subjects_data['SUBFIELDCODE'] != '999999'\n",
    "mask3 = itmo_subjects_data['SUBFIELDCODE'] != '00.00.00'\n",
    "\n",
    "# updating information\n",
    "itmo_subjects_data = itmo_subjects_data.loc[(mask) & (mask1) & (mask2) & (mask3)]\n"
   ]
  },
  {
   "cell_type": "markdown",
   "metadata": {
    "colab_type": "text",
    "id": "F8nXuodvClpK"
   },
   "source": [
    "## Exploring data"
   ]
  },
  {
   "cell_type": "code",
   "execution_count": 9,
   "metadata": {
    "colab": {},
    "colab_type": "code",
    "id": "c8E7qvHlnF83"
   },
   "outputs": [],
   "source": [
    "# getting most frequent educational programs\n",
    "educational_programs_frequencies = itmo_subjects_data['SUBFIELDCODE'].value_counts()"
   ]
  },
  {
   "cell_type": "code",
   "execution_count": 10,
   "metadata": {
    "colab": {
     "base_uri": "https://localhost:8080/",
     "height": 819
    },
    "colab_type": "code",
    "id": "SujXAxydn3as",
    "outputId": "cef6c89a-2152-4421-f3d9-b3d43c8fb5ac"
   },
   "outputs": [
    {
     "data": {
      "text/plain": [
       "<BarContainer object of 40 artists>"
      ]
     },
     "execution_count": 10,
     "metadata": {},
     "output_type": "execute_result"
    },
    {
     "data": {
      "image/png": "[encoded data removed]",
      "text/plain": [
       "<Figure size 1440x720 with 2 Axes>"
      ]
     },
     "metadata": {},
     "output_type": "display_data"
    }
   ],
   "source": [
    "# plotting 40 most frequent educational programs and 40 less frequent programs\n",
    "plt.figure(figsize=(20, 10))\n",
    "plt.subplots_adjust(top=3, bottom=2)\n",
    "plt.subplot(211)\n",
    "plt.xticks(rotation=90)\n",
    "plt.bar(x=educational_programs_frequencies.index.values[:40], height=educational_programs_frequencies.values[:40])\n",
    "plt.subplot(212)\n",
    "plt.xticks(rotation=90)\n",
    "plt.bar(x=educational_programs_frequencies.index.values[-40:], height=educational_programs_frequencies.values[-40:])"
   ]
  },
  {
   "cell_type": "markdown",
   "metadata": {
    "colab_type": "text",
    "id": "8zyEt3y2DJcx"
   },
   "source": [
    "# Matching ITMO cources to Itmo educational programs"
   ]
  },
  {
   "cell_type": "code",
   "execution_count": 11,
   "metadata": {
    "colab": {
     "base_uri": "https://localhost:8080/",
     "height": 206
    },
    "colab_type": "code",
    "id": "8vGi7Za18Qwc",
    "outputId": "67596831-443e-455b-8c9b-abf0a290e8f1"
   },
   "outputs": [
    {
     "data": {
      "text/html": [
       "<div>\n",
       "<style scoped>\n",
       "    .dataframe tbody tr th:only-of-type {\n",
       "        vertical-align: middle;\n",
       "    }\n",
       "\n",
       "    .dataframe tbody tr th {\n",
       "        vertical-align: top;\n",
       "    }\n",
       "\n",
       "    .dataframe thead th {\n",
       "        text-align: right;\n",
       "    }\n",
       "</style>\n",
       "<table border=\"1\" class=\"dataframe\">\n",
       "  <thead>\n",
       "    <tr style=\"text-align: right;\">\n",
       "      <th></th>\n",
       "      <th>Unnamed: 0</th>\n",
       "      <th>SUBFIELDCODE</th>\n",
       "      <th>SUBFIELDNAME</th>\n",
       "      <th>DEGREE</th>\n",
       "      <th>SUBJECT</th>\n",
       "      <th>SEMESTER</th>\n",
       "      <th>START_YEAR</th>\n",
       "    </tr>\n",
       "  </thead>\n",
       "  <tbody>\n",
       "    <tr>\n",
       "      <th>0</th>\n",
       "      <td>0</td>\n",
       "      <td>09.03.01</td>\n",
       "      <td>Вычислительные машины, комплексы, системы и сети</td>\n",
       "      <td>Академический бакалавр</td>\n",
       "      <td>Математика</td>\n",
       "      <td>1</td>\n",
       "      <td>2014</td>\n",
       "    </tr>\n",
       "    <tr>\n",
       "      <th>1</th>\n",
       "      <td>1</td>\n",
       "      <td>09.03.01</td>\n",
       "      <td>Вычислительные машины, комплексы, системы и сети</td>\n",
       "      <td>Академический бакалавр</td>\n",
       "      <td>Математика</td>\n",
       "      <td>2</td>\n",
       "      <td>2014</td>\n",
       "    </tr>\n",
       "    <tr>\n",
       "      <th>2</th>\n",
       "      <td>2</td>\n",
       "      <td>09.03.01</td>\n",
       "      <td>Вычислительные машины, комплексы, системы и сети</td>\n",
       "      <td>Академический бакалавр</td>\n",
       "      <td>Физика</td>\n",
       "      <td>1</td>\n",
       "      <td>2014</td>\n",
       "    </tr>\n",
       "    <tr>\n",
       "      <th>3</th>\n",
       "      <td>3</td>\n",
       "      <td>09.03.01</td>\n",
       "      <td>Вычислительные машины, комплексы, системы и сети</td>\n",
       "      <td>Академический бакалавр</td>\n",
       "      <td>Физика</td>\n",
       "      <td>2</td>\n",
       "      <td>2014</td>\n",
       "    </tr>\n",
       "    <tr>\n",
       "      <th>4</th>\n",
       "      <td>4</td>\n",
       "      <td>09.03.01</td>\n",
       "      <td>Вычислительные машины, комплексы, системы и сети</td>\n",
       "      <td>Академический бакалавр</td>\n",
       "      <td>Основы права</td>\n",
       "      <td>1</td>\n",
       "      <td>2014</td>\n",
       "    </tr>\n",
       "  </tbody>\n",
       "</table>\n",
       "</div>"
      ],
      "text/plain": [
       "   Unnamed: 0 SUBFIELDCODE                                      SUBFIELDNAME  \\\n",
       "0           0     09.03.01  Вычислительные машины, комплексы, системы и сети   \n",
       "1           1     09.03.01  Вычислительные машины, комплексы, системы и сети   \n",
       "2           2     09.03.01  Вычислительные машины, комплексы, системы и сети   \n",
       "3           3     09.03.01  Вычислительные машины, комплексы, системы и сети   \n",
       "4           4     09.03.01  Вычислительные машины, комплексы, системы и сети   \n",
       "\n",
       "                   DEGREE       SUBJECT  SEMESTER  START_YEAR  \n",
       "0  Академический бакалавр    Математика         1        2014  \n",
       "1  Академический бакалавр    Математика         2        2014  \n",
       "2  Академический бакалавр        Физика         1        2014  \n",
       "3  Академический бакалавр        Физика         2        2014  \n",
       "4  Академический бакалавр  Основы права         1        2014  "
      ]
     },
     "execution_count": 11,
     "metadata": {},
     "output_type": "execute_result"
    }
   ],
   "source": [
    "itmo_subjects_data.head()"
   ]
  },
  {
   "cell_type": "code",
   "execution_count": 12,
   "metadata": {
    "colab": {
     "base_uri": "https://localhost:8080/",
     "height": 536
    },
    "colab_type": "code",
    "id": "lzb0qCEiDjZY",
    "outputId": "d201252f-4f11-4858-d935-dc8d61b9e87d"
   },
   "outputs": [
    {
     "data": {
      "text/html": [
       "<div>\n",
       "<style scoped>\n",
       "    .dataframe tbody tr th:only-of-type {\n",
       "        vertical-align: middle;\n",
       "    }\n",
       "\n",
       "    .dataframe tbody tr th {\n",
       "        vertical-align: top;\n",
       "    }\n",
       "\n",
       "    .dataframe thead th {\n",
       "        text-align: right;\n",
       "    }\n",
       "</style>\n",
       "<table border=\"1\" class=\"dataframe\">\n",
       "  <thead>\n",
       "    <tr style=\"text-align: right;\">\n",
       "      <th></th>\n",
       "      <th>URL</th>\n",
       "      <th>Название курса</th>\n",
       "      <th>Входные требования</th>\n",
       "      <th>Ключевые слова-пререквизиты</th>\n",
       "      <th>Содержание курса</th>\n",
       "      <th>Ключевые слова содержания</th>\n",
       "      <th>Направления подготовки</th>\n",
       "    </tr>\n",
       "  </thead>\n",
       "  <tbody>\n",
       "    <tr>\n",
       "      <th>0</th>\n",
       "      <td>https://online.edu.ru/public/course.xhtml?face...</td>\n",
       "      <td>Теория игр\\n</td>\n",
       "      <td></td>\n",
       "      <td>NaN</td>\n",
       "      <td>1. Стратегические взаимодействия 2. Доминиру...</td>\n",
       "      <td>доминируемые стратегии, игры с несовершенной и...</td>\n",
       "      <td>41.03.04 Политология                          ...</td>\n",
       "    </tr>\n",
       "    <tr>\n",
       "      <th>1</th>\n",
       "      <td>https://online.edu.ru/public/course.xhtml?face...</td>\n",
       "      <td>Методы обработки навигационной измерительной и...</td>\n",
       "      <td></td>\n",
       "      <td>NaN</td>\n",
       "      <td>В курсе рассматриваются следующие темы:   Эл...</td>\n",
       "      <td>scilab, оптимальные оценки, случайные последов...</td>\n",
       "      <td>24.03.02 Системы управления движением и навига...</td>\n",
       "    </tr>\n",
       "    <tr>\n",
       "      <th>2</th>\n",
       "      <td>https://online.edu.ru/public/course.xhtml?face...</td>\n",
       "      <td>Методы вычислительной математики\\n</td>\n",
       "      <td></td>\n",
       "      <td>NaN</td>\n",
       "      <td>Раздел 1. Элементарная теория погрешностей....</td>\n",
       "      <td>методы решения нелинейных уравнений, численное...</td>\n",
       "      <td>01.03.02 Прикладная математика и информатика  ...</td>\n",
       "    </tr>\n",
       "    <tr>\n",
       "      <th>3</th>\n",
       "      <td>https://online.edu.ru/public/course.xhtml?face...</td>\n",
       "      <td>Функциональное программирование: базовый курс\\n</td>\n",
       "      <td></td>\n",
       "      <td>NaN</td>\n",
       "      <td>В курсе рассматриваются следующие темы: 1. В...</td>\n",
       "      <td>рекурсия, списки в языке lisp, символы в языке...</td>\n",
       "      <td>09.00.00 Информатика и вычислительная техника ...</td>\n",
       "    </tr>\n",
       "    <tr>\n",
       "      <th>4</th>\n",
       "      <td>https://online.edu.ru/public/course.xhtml?face...</td>\n",
       "      <td>Веб-программирование\\n</td>\n",
       "      <td></td>\n",
       "      <td>NaN</td>\n",
       "      <td>В курсе рассматриваются следующие темы:  1. ...</td>\n",
       "      <td>позиционирование, разметка, html, декоративные...</td>\n",
       "      <td>09.00.00 Информатика и вычислительная техника ...</td>\n",
       "    </tr>\n",
       "  </tbody>\n",
       "</table>\n",
       "</div>"
      ],
      "text/plain": [
       "                                                 URL  \\\n",
       "0  https://online.edu.ru/public/course.xhtml?face...   \n",
       "1  https://online.edu.ru/public/course.xhtml?face...   \n",
       "2  https://online.edu.ru/public/course.xhtml?face...   \n",
       "3  https://online.edu.ru/public/course.xhtml?face...   \n",
       "4  https://online.edu.ru/public/course.xhtml?face...   \n",
       "\n",
       "                                      Название курса Входные требования  \\\n",
       "0                                       Теория игр\\n                      \n",
       "1  Методы обработки навигационной измерительной и...                      \n",
       "2                 Методы вычислительной математики\\n                      \n",
       "3    Функциональное программирование: базовый курс\\n                      \n",
       "4                             Веб-программирование\\n                      \n",
       "\n",
       "  Ключевые слова-пререквизиты  \\\n",
       "0                         NaN   \n",
       "1                         NaN   \n",
       "2                         NaN   \n",
       "3                         NaN   \n",
       "4                         NaN   \n",
       "\n",
       "                                    Содержание курса  \\\n",
       "0    1. Стратегические взаимодействия 2. Доминиру...   \n",
       "1    В курсе рассматриваются следующие темы:   Эл...   \n",
       "2     Раздел 1. Элементарная теория погрешностей....   \n",
       "3    В курсе рассматриваются следующие темы: 1. В...   \n",
       "4    В курсе рассматриваются следующие темы:  1. ...   \n",
       "\n",
       "                           Ключевые слова содержания  \\\n",
       "0  доминируемые стратегии, игры с несовершенной и...   \n",
       "1  scilab, оптимальные оценки, случайные последов...   \n",
       "2  методы решения нелинейных уравнений, численное...   \n",
       "3  рекурсия, списки в языке lisp, символы в языке...   \n",
       "4  позиционирование, разметка, html, декоративные...   \n",
       "\n",
       "                              Направления подготовки  \n",
       "0  41.03.04 Политология                          ...  \n",
       "1  24.03.02 Системы управления движением и навига...  \n",
       "2  01.03.02 Прикладная математика и информатика  ...  \n",
       "3  09.00.00 Информатика и вычислительная техника ...  \n",
       "4  09.00.00 Информатика и вычислительная техника ...  "
      ]
     },
     "execution_count": 12,
     "metadata": {},
     "output_type": "execute_result"
    }
   ],
   "source": [
    "online_edu_courses.head()"
   ]
  },
  {
   "cell_type": "code",
   "execution_count": 17,
   "metadata": {
    "colab": {},
    "colab_type": "code",
    "id": "uCSe47AtDpmA"
   },
   "outputs": [],
   "source": [
    "# initliazing Data Frame for matched data\n",
    "matched_data = pd.DataFrame(columns=['Название', 'DEGREE', 'SUBJECT', 'SEMESTER', 'START_YEAR',\n",
    "                                   'URL', 'Содержание курса', 'Ключевые слова содержания'])"
   ]
  },
  {
   "cell_type": "code",
   "execution_count": 59,
   "metadata": {
    "colab": {
     "base_uri": "https://localhost:8080/",
     "height": 34
    },
    "colab_type": "code",
    "id": "ZvnMq2CKD_Z6",
    "outputId": "1bcdde2b-c311-4e15-8e8d-5514675b4c1f"
   },
   "outputs": [],
   "source": [
    "for educationa_program in itmo_subjects_data.values:\n",
    "    for course in online_edu_courses.values:\n",
    "        if re.search(educationa_program[2].lower(), course[1].lower()):\n",
    "            # forming row\n",
    "            row = list(educationa_program[2:]) + [course[0]] + list(course[4:6])\n",
    "\n",
    "            matched_data = matched_data.append([{'Название' : row[0], 'DEGREE': row[1], 'SUBJECT': row[2], 'SEMESTER': row[3], 'START_YEAR': row[4],\n",
    "          'URL': row[5], 'Содержание курса' : row[6], 'Ключевые слова содержания': row[7]}],  ignore_index=True)"
   ]
  },
  {
   "cell_type": "code",
   "execution_count": 61,
   "metadata": {
    "colab": {},
    "colab_type": "code",
    "id": "dU9np8n1E_Km"
   },
   "outputs": [
    {
     "data": {
      "text/plain": [
       "5939"
      ]
     },
     "execution_count": 61,
     "metadata": {},
     "output_type": "execute_result"
    }
   ],
   "source": [
    "matched_data.shape[0]"
   ]
  },
  {
   "cell_type": "code",
   "execution_count": 64,
   "metadata": {
    "colab": {},
    "colab_type": "code",
    "id": "to6CRjcvFNxb"
   },
   "outputs": [
    {
     "data": {
      "text/html": [
       "<div>\n",
       "<style scoped>\n",
       "    .dataframe tbody tr th:only-of-type {\n",
       "        vertical-align: middle;\n",
       "    }\n",
       "\n",
       "    .dataframe tbody tr th {\n",
       "        vertical-align: top;\n",
       "    }\n",
       "\n",
       "    .dataframe thead th {\n",
       "        text-align: right;\n",
       "    }\n",
       "</style>\n",
       "<table border=\"1\" class=\"dataframe\">\n",
       "  <thead>\n",
       "    <tr style=\"text-align: right;\">\n",
       "      <th></th>\n",
       "      <th>Название</th>\n",
       "      <th>DEGREE</th>\n",
       "      <th>SUBJECT</th>\n",
       "      <th>SEMESTER</th>\n",
       "      <th>START_YEAR</th>\n",
       "      <th>URL</th>\n",
       "      <th>Содержание курса</th>\n",
       "      <th>Ключевые слова содержания</th>\n",
       "    </tr>\n",
       "  </thead>\n",
       "  <tbody>\n",
       "    <tr>\n",
       "      <th>5934</th>\n",
       "      <td>Корпоративные информационные системы</td>\n",
       "      <td>Академический бакалавр</td>\n",
       "      <td>Основы экономики</td>\n",
       "      <td>4</td>\n",
       "      <td>2018</td>\n",
       "      <td>https://online.edu.ru/public/course.xhtml?face...</td>\n",
       "      <td>Введение. Основные понятия корпоративных и...</td>\n",
       "      <td>1С: предприятие, корпоративные информационные ...</td>\n",
       "    </tr>\n",
       "    <tr>\n",
       "      <th>5935</th>\n",
       "      <td>Корпоративные информационные системы</td>\n",
       "      <td>Академический бакалавр</td>\n",
       "      <td>Объектно-ориентированное программирование</td>\n",
       "      <td>3</td>\n",
       "      <td>2018</td>\n",
       "      <td>https://online.edu.ru/public/course.xhtml?face...</td>\n",
       "      <td>Введение. Основные понятия корпоративных и...</td>\n",
       "      <td>1С: предприятие, корпоративные информационные ...</td>\n",
       "    </tr>\n",
       "    <tr>\n",
       "      <th>5936</th>\n",
       "      <td>Корпоративные информационные системы</td>\n",
       "      <td>Академический бакалавр</td>\n",
       "      <td>Проектирование баз данных</td>\n",
       "      <td>3</td>\n",
       "      <td>2018</td>\n",
       "      <td>https://online.edu.ru/public/course.xhtml?face...</td>\n",
       "      <td>Введение. Основные понятия корпоративных и...</td>\n",
       "      <td>1С: предприятие, корпоративные информационные ...</td>\n",
       "    </tr>\n",
       "    <tr>\n",
       "      <th>5937</th>\n",
       "      <td>Корпоративные информационные системы</td>\n",
       "      <td>Академический бакалавр</td>\n",
       "      <td>Телекоммуникационные системы и технологии</td>\n",
       "      <td>4</td>\n",
       "      <td>2018</td>\n",
       "      <td>https://online.edu.ru/public/course.xhtml?face...</td>\n",
       "      <td>Введение. Основные понятия корпоративных и...</td>\n",
       "      <td>1С: предприятие, корпоративные информационные ...</td>\n",
       "    </tr>\n",
       "    <tr>\n",
       "      <th>5938</th>\n",
       "      <td>Корпоративные информационные системы</td>\n",
       "      <td>Академический бакалавр</td>\n",
       "      <td>Культурология</td>\n",
       "      <td>3</td>\n",
       "      <td>2018</td>\n",
       "      <td>https://online.edu.ru/public/course.xhtml?face...</td>\n",
       "      <td>Введение. Основные понятия корпоративных и...</td>\n",
       "      <td>1С: предприятие, корпоративные информационные ...</td>\n",
       "    </tr>\n",
       "  </tbody>\n",
       "</table>\n",
       "</div>"
      ],
      "text/plain": [
       "                                  Название                  DEGREE  \\\n",
       "5934  Корпоративные информационные системы  Академический бакалавр   \n",
       "5935  Корпоративные информационные системы  Академический бакалавр   \n",
       "5936  Корпоративные информационные системы  Академический бакалавр   \n",
       "5937  Корпоративные информационные системы  Академический бакалавр   \n",
       "5938  Корпоративные информационные системы  Академический бакалавр   \n",
       "\n",
       "                                        SUBJECT SEMESTER START_YEAR  \\\n",
       "5934                           Основы экономики        4       2018   \n",
       "5935  Объектно-ориентированное программирование        3       2018   \n",
       "5936                  Проектирование баз данных        3       2018   \n",
       "5937  Телекоммуникационные системы и технологии        4       2018   \n",
       "5938                              Культурология        3       2018   \n",
       "\n",
       "                                                    URL  \\\n",
       "5934  https://online.edu.ru/public/course.xhtml?face...   \n",
       "5935  https://online.edu.ru/public/course.xhtml?face...   \n",
       "5936  https://online.edu.ru/public/course.xhtml?face...   \n",
       "5937  https://online.edu.ru/public/course.xhtml?face...   \n",
       "5938  https://online.edu.ru/public/course.xhtml?face...   \n",
       "\n",
       "                                       Содержание курса  \\\n",
       "5934      Введение. Основные понятия корпоративных и...   \n",
       "5935      Введение. Основные понятия корпоративных и...   \n",
       "5936      Введение. Основные понятия корпоративных и...   \n",
       "5937      Введение. Основные понятия корпоративных и...   \n",
       "5938      Введение. Основные понятия корпоративных и...   \n",
       "\n",
       "                              Ключевые слова содержания  \n",
       "5934  1С: предприятие, корпоративные информационные ...  \n",
       "5935  1С: предприятие, корпоративные информационные ...  \n",
       "5936  1С: предприятие, корпоративные информационные ...  \n",
       "5937  1С: предприятие, корпоративные информационные ...  \n",
       "5938  1С: предприятие, корпоративные информационные ...  "
      ]
     },
     "execution_count": 64,
     "metadata": {},
     "output_type": "execute_result"
    }
   ],
   "source": [
    "matched_data.tail(5)"
   ]
  },
  {
   "cell_type": "code",
   "execution_count": 63,
   "metadata": {
    "colab": {
     "base_uri": "https://localhost:8080/",
     "height": 1000
    },
    "colab_type": "code",
    "id": "ilV8DG9HFet3",
    "outputId": "374f0e21-59a1-4d7f-8c6a-2d7e8ff3a790"
   },
   "outputs": [],
   "source": [
    "matched_data.to_csv('matched_data.csv')"
   ]
  },
  {
   "cell_type": "code",
   "execution_count": null,
   "metadata": {
    "colab": {},
    "colab_type": "code",
    "id": "IKRML-WXFkIY"
   },
   "outputs": [],
   "source": []
  },
  {
   "cell_type": "code",
   "execution_count": null,
   "metadata": {},
   "outputs": [],
   "source": []
  },
  {
   "cell_type": "code",
   "execution_count": null,
   "metadata": {},
   "outputs": [],
   "source": []
  }
 ],
 "metadata": {
  "accelerator": "GPU",
  "colab": {
   "collapsed_sections": [],
   "name": "Matching.ipynb",
   "provenance": [],
   "toc_visible": true
  },
  "kernelspec": {
   "display_name": "Python 3",
   "language": "python",
   "name": "python3"
  },
  "language_info": {
   "codemirror_mode": {
    "name": "ipython",
    "version": 3
   },
   "file_extension": ".py",
   "mimetype": "text/x-python",
   "name": "python",
   "nbconvert_exporter": "python",
   "pygments_lexer": "ipython3",
   "version": "3.8.2"
  }
 },
 "nbformat": 4,
 "nbformat_minor": 1
}
