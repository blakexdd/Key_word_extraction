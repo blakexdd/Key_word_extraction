{
 "cells": [
  {
   "cell_type": "markdown",
   "metadata": {},
   "source": [
    "# Setting up"
   ]
  },
  {
   "cell_type": "code",
   "execution_count": 9,
   "metadata": {},
   "outputs": [],
   "source": [
    "import pandas as pd\n",
    "import re\n",
    "import gensim\n",
    "from gensim.models.doc2vec import Doc2Vec, TaggedDocument\n",
    "from nltk.stem import WordNetLemmatizer\n",
    "import pymorphy2\n",
    "import warnings\n",
    "import nltk\n",
    "from tqdm import tqdm\n",
    "warnings.filterwarnings(\"ignore\")"
   ]
  },
  {
   "cell_type": "code",
   "execution_count": 10,
   "metadata": {},
   "outputs": [],
   "source": [
    "# Preprocessing data function\n",
    "# Arguments:\n",
    "#   - pandas Series we want to preprocess and list of stop words\n",
    "#        data : pd.Series, stop_words : list\n",
    "# Rerutns:\n",
    "#   - preprocesse pandas series\n",
    "#       (pd.Series)\n",
    "def preprocess_data(data : pd.Series, stop_words : list):\n",
    "    data = data.apply(lambda x: x.lower())\n",
    "    data = data.apply(lambda x: re.sub(r'\\)\\w+', ' ', x))\n",
    "    data = data.apply(lambda x: re.sub(r'\\b\\d+\\b', ' ', x))\n",
    "    data = data.apply(lambda x: re.sub(r'\\w+\\(', ' ', x))\n",
    "    data = data.apply(lambda x: re.sub(r'[-–\\.\\*\\?«»•\\(\\)/—,:;\\\"]', ' ', x))\n",
    "    data = data.apply(lambda x: re.sub(r'\\d+\\.\\d+\\.', ' ', x))\n",
    "    data = data.apply(lambda x: re.sub(r'\\d+\\.\\d+', ' ', x))\n",
    "    data = data.apply(lambda x: re.sub(r'\\d+\\.', ' ', x))\n",
    "    data = data.apply(lambda x: re.sub(r'\\s+', ' ', x))\n",
    "    data = data.apply(lambda x : ' '.join([word for word in x.split() if word not in stop_words]))\n",
    "  \n",
    "    return data"
   ]
  },
  {
   "cell_type": "code",
   "execution_count": 11,
   "metadata": {},
   "outputs": [],
   "source": [
    "data = pd.read_csv('Data/vacancies_data.csv', index_col=0)"
   ]
  },
  {
   "cell_type": "code",
   "execution_count": 12,
   "metadata": {},
   "outputs": [],
   "source": [
    "itmo_data = pd.read_csv('Data/Itmo_with_keywords_30.04.2020.csv', index_col=0)"
   ]
  },
  {
   "cell_type": "code",
   "execution_count": 13,
   "metadata": {},
   "outputs": [],
   "source": [
    "# getting stop words\n",
    "stop_words = nltk.corpus.stopwords.words('russian') + nltk.corpus.stopwords.words('english') +\\\n",
    "['основа', 'введение', 'базовый', 'современный', 'начальный', 'зарплата']"
   ]
  },
  {
   "cell_type": "markdown",
   "metadata": {},
   "source": [
    "# Preparing and tokenizing data"
   ]
  },
  {
   "cell_type": "code",
   "execution_count": 14,
   "metadata": {},
   "outputs": [],
   "source": [
    "# cleaning hh data set\n",
    "data['Ключевые навыки clean'] = preprocess_data(data['Ключевые навыки'], stop_words)\n",
    "itmo_data['Keywords clean'] = preprocess_data(itmo_data['Keywords'], stop_words)\n",
    "\n",
    "# getting only vacancies with key words\n",
    "data = data[data['Ключевые навыки clean'] != ' ']"
   ]
  },
  {
   "cell_type": "code",
   "execution_count": 15,
   "metadata": {},
   "outputs": [],
   "source": [
    "en_lemmatizer = WordNetLemmatizer()\n",
    "ru_lemmatizer = pymorphy2.analyzer.MorphAnalyzer()"
   ]
  },
  {
   "cell_type": "code",
   "execution_count": 16,
   "metadata": {},
   "outputs": [],
   "source": [
    "# tokenizing both data sets\n",
    "data['tokenized'] = data['Ключевые навыки clean'].apply(lambda x : \n",
    "                                                  list(set([ru_lemmatizer.parse(word)[0].normal_form if \n",
    "                                                            re.search(r'[А-Яа-я]+', word) else\n",
    "                                                            en_lemmatizer.lemmatize(word) for word in x.split()])))"
   ]
  },
  {
   "cell_type": "code",
   "execution_count": 17,
   "metadata": {},
   "outputs": [],
   "source": [
    "itmo_data['tokenized'] = itmo_data['Keywords clean'].apply(lambda x : \n",
    "                                                  list(set([ru_lemmatizer.parse(word)[0].normal_form if \n",
    "                                                            re.search(r'[А-Яа-я]+', word) else\n",
    "                                                            en_lemmatizer.lemmatize(word) for word in x.split()])))"
   ]
  },
  {
   "cell_type": "code",
   "execution_count": 18,
   "metadata": {},
   "outputs": [],
   "source": [
    "itmo_data['New_subj'] = itmo_data['SUBJECT'].apply(lambda x: [ru_lemmatizer.parse(word)[0].normal_form if \n",
    "                                                            re.search(r'[А-Яа-я]+', word) else\n",
    "                                                            en_lemmatizer.lemmatize(word) for word in x.split()])"
   ]
  },
  {
   "cell_type": "code",
   "execution_count": 19,
   "metadata": {},
   "outputs": [
    {
     "data": {
      "text/html": [
       "<div>\n",
       "<style scoped>\n",
       "    .dataframe tbody tr th:only-of-type {\n",
       "        vertical-align: middle;\n",
       "    }\n",
       "\n",
       "    .dataframe tbody tr th {\n",
       "        vertical-align: top;\n",
       "    }\n",
       "\n",
       "    .dataframe thead th {\n",
       "        text-align: right;\n",
       "    }\n",
       "</style>\n",
       "<table border=\"1\" class=\"dataframe\">\n",
       "  <thead>\n",
       "    <tr style=\"text-align: right;\">\n",
       "      <th></th>\n",
       "      <th>SUBFIELDCODE</th>\n",
       "      <th>SUBFIELDNAME</th>\n",
       "      <th>DEGREE</th>\n",
       "      <th>SUBJECT</th>\n",
       "      <th>SEMESTER</th>\n",
       "      <th>START_YEAR</th>\n",
       "      <th>Keywords</th>\n",
       "      <th>Keywords clean</th>\n",
       "      <th>tokenized</th>\n",
       "      <th>New_subj</th>\n",
       "    </tr>\n",
       "  </thead>\n",
       "  <tbody>\n",
       "    <tr>\n",
       "      <th>0</th>\n",
       "      <td>09.03.01</td>\n",
       "      <td>Вычислительные машины, комплексы, системы и сети</td>\n",
       "      <td>Академический бакалавр</td>\n",
       "      <td>Математика</td>\n",
       "      <td>1</td>\n",
       "      <td>2014</td>\n",
       "      <td>Элементы линейной алгебры; Математический анал...</td>\n",
       "      <td>элементы линейной алгебры математический анали...</td>\n",
       "      <td>[вероятность, элемент, анализ, переменный, оди...</td>\n",
       "      <td>[математика]</td>\n",
       "    </tr>\n",
       "    <tr>\n",
       "      <th>1</th>\n",
       "      <td>09.03.01</td>\n",
       "      <td>Вычислительные машины, комплексы, системы и сети</td>\n",
       "      <td>Академический бакалавр</td>\n",
       "      <td>Математика</td>\n",
       "      <td>2</td>\n",
       "      <td>2014</td>\n",
       "      <td>Элементы линейной алгебры; Математический анал...</td>\n",
       "      <td>элементы линейной алгебры математический анали...</td>\n",
       "      <td>[вероятность, элемент, анализ, переменный, оди...</td>\n",
       "      <td>[математика]</td>\n",
       "    </tr>\n",
       "    <tr>\n",
       "      <th>2</th>\n",
       "      <td>09.03.01</td>\n",
       "      <td>Вычислительные машины, комплексы, системы и сети</td>\n",
       "      <td>Академический бакалавр</td>\n",
       "      <td>Физика</td>\n",
       "      <td>1</td>\n",
       "      <td>2014</td>\n",
       "      <td>Механика; Механические колебания и волны; Элем...</td>\n",
       "      <td>механика механические колебания волны элементы...</td>\n",
       "      <td>[электромагнитный, элемент, электростатика, оп...</td>\n",
       "      <td>[физик]</td>\n",
       "    </tr>\n",
       "    <tr>\n",
       "      <th>3</th>\n",
       "      <td>09.03.01</td>\n",
       "      <td>Вычислительные машины, комплексы, системы и сети</td>\n",
       "      <td>Академический бакалавр</td>\n",
       "      <td>Физика</td>\n",
       "      <td>2</td>\n",
       "      <td>2014</td>\n",
       "      <td>Механика; Механические колебания и волны; Элем...</td>\n",
       "      <td>механика механические колебания волны элементы...</td>\n",
       "      <td>[электромагнитный, элемент, электростатика, оп...</td>\n",
       "      <td>[физик]</td>\n",
       "    </tr>\n",
       "    <tr>\n",
       "      <th>4</th>\n",
       "      <td>09.03.01</td>\n",
       "      <td>Вычислительные машины, комплексы, системы и сети</td>\n",
       "      <td>Академический бакалавр</td>\n",
       "      <td>Основы права</td>\n",
       "      <td>1</td>\n",
       "      <td>2014</td>\n",
       "      <td></td>\n",
       "      <td></td>\n",
       "      <td>[]</td>\n",
       "      <td>[основа, право]</td>\n",
       "    </tr>\n",
       "  </tbody>\n",
       "</table>\n",
       "</div>"
      ],
      "text/plain": [
       "  SUBFIELDCODE                                      SUBFIELDNAME  \\\n",
       "0     09.03.01  Вычислительные машины, комплексы, системы и сети   \n",
       "1     09.03.01  Вычислительные машины, комплексы, системы и сети   \n",
       "2     09.03.01  Вычислительные машины, комплексы, системы и сети   \n",
       "3     09.03.01  Вычислительные машины, комплексы, системы и сети   \n",
       "4     09.03.01  Вычислительные машины, комплексы, системы и сети   \n",
       "\n",
       "                   DEGREE       SUBJECT  SEMESTER  START_YEAR  \\\n",
       "0  Академический бакалавр    Математика         1        2014   \n",
       "1  Академический бакалавр    Математика         2        2014   \n",
       "2  Академический бакалавр        Физика         1        2014   \n",
       "3  Академический бакалавр        Физика         2        2014   \n",
       "4  Академический бакалавр  Основы права         1        2014   \n",
       "\n",
       "                                            Keywords  \\\n",
       "0  Элементы линейной алгебры; Математический анал...   \n",
       "1  Элементы линейной алгебры; Математический анал...   \n",
       "2  Механика; Механические колебания и волны; Элем...   \n",
       "3  Механика; Механические колебания и волны; Элем...   \n",
       "4                                                      \n",
       "\n",
       "                                      Keywords clean  \\\n",
       "0  элементы линейной алгебры математический анали...   \n",
       "1  элементы линейной алгебры математический анали...   \n",
       "2  механика механические колебания волны элементы...   \n",
       "3  механика механические колебания волны элементы...   \n",
       "4                                                      \n",
       "\n",
       "                                           tokenized         New_subj  \n",
       "0  [вероятность, элемент, анализ, переменный, оди...     [математика]  \n",
       "1  [вероятность, элемент, анализ, переменный, оди...     [математика]  \n",
       "2  [электромагнитный, элемент, электростатика, оп...          [физик]  \n",
       "3  [электромагнитный, элемент, электростатика, оп...          [физик]  \n",
       "4                                                 []  [основа, право]  "
      ]
     },
     "execution_count": 19,
     "metadata": {},
     "output_type": "execute_result"
    }
   ],
   "source": [
    "itmo_data.head()"
   ]
  },
  {
   "cell_type": "markdown",
   "metadata": {},
   "source": [
    "# Performing doc2vec matching"
   ]
  },
  {
   "cell_type": "code",
   "execution_count": 20,
   "metadata": {},
   "outputs": [],
   "source": [
    "import numpy as np"
   ]
  },
  {
   "cell_type": "code",
   "execution_count": 21,
   "metadata": {},
   "outputs": [],
   "source": [
    "# tagging documents from hh and itmo data sets\n",
    "documents_hh = [TaggedDocument(doc, [' '.join(doc)]) for doc in data['tokenized'] if doc != []]\n",
    "documents_itmo = [TaggedDocument(doc, [' '.join(doc)]) for doc in np.unique(itmo_data['tokenized'])]"
   ]
  },
  {
   "cell_type": "code",
   "execution_count": 22,
   "metadata": {},
   "outputs": [],
   "source": [
    "# constructing generic dataset\n",
    "documents = documents_hh + documents_itmo"
   ]
  },
  {
   "cell_type": "code",
   "execution_count": 23,
   "metadata": {},
   "outputs": [],
   "source": [
    "model = Doc2Vec(documents, dm=0, alpha=0.025, size=20, min_alpha=0.025, min_count=0)"
   ]
  },
  {
   "cell_type": "code",
   "execution_count": 24,
   "metadata": {},
   "outputs": [
    {
     "name": "stderr",
     "output_type": "stream",
     "text": [
      "100%|██████████| 10/10 [00:13<00:00,  1.39s/it]\n"
     ]
    }
   ],
   "source": [
    "for epoch in tqdm(range(10)):\n",
    "    model.train(documents, total_examples=model.corpus_count, epochs=10)\n",
    "    model.alpha -= 0.002\n",
    "    model.min_alpha = model.alpha"
   ]
  },
  {
   "cell_type": "code",
   "execution_count": 68,
   "metadata": {},
   "outputs": [
    {
     "name": "stderr",
     "output_type": "stream",
     "text": [
      "100%|██████████| 14369/14369 [2:21:46<00:00,  1.69it/s] \n"
     ]
    }
   ],
   "source": [
    "vac = []\n",
    "\n",
    "for vacancy in tqdm(data.values):\n",
    "    most_sim = 0\n",
    "    vacn = ' '\n",
    "    \n",
    "    desc_sim = []\n",
    "    for desc in itmo_data.values:\n",
    "        sim = model.docvecs.similarity(' '.join(desc[-2]), ' '.join(vacancy[-1]))\n",
    "        desc_sim.append((desc, sim))\n",
    "    \n",
    "    new_desc_sim = []\n",
    "    for item in sorted(desc_sim, key=lambda x:x[1], reverse=True)[:10]:\n",
    "        curr_weight = 0\n",
    "        for word in item[0][-2]:\n",
    "            if word == 'с++':\n",
    "                if re.findall(r'c\\+\\+', ' '.join(vacancy[-1])):\n",
    "                    curr_weight += len(re.findall(r'c\\+\\+', ' '.join(vacancy[-1])))\n",
    "            elif word != ' ' and word != '' and word != '+':\n",
    "                if re.findall(word, ' '.join(vacancy[-1])):\n",
    "                    curr_weight += len(re.findall(word, ' '.join(vacancy[-1])))\n",
    "                \n",
    "        if len(vacancy[-1]) != 0 or len(item[0][-2]) != 0:\n",
    "            curr_weight /= ((len(vacancy[-1]) + len(item[0][-2])))\n",
    "        else:\n",
    "            curr_weight = 0\n",
    "        \n",
    "        \n",
    "        new_desc_sim.append((item[0], vacancy, curr_weight))\n",
    "    \n",
    "    predicted = sorted(new_desc_sim, key=lambda x:x[-1], reverse=True)[0]\n",
    "    vac.append(predicted if predicted[-1] > 0.1 else ' ')\n",
    "    "
   ]
  },
  {
   "cell_type": "code",
   "execution_count": 69,
   "metadata": {},
   "outputs": [],
   "source": [
    "vac = np.array(vac)"
   ]
  },
  {
   "cell_type": "code",
   "execution_count": 95,
   "metadata": {},
   "outputs": [],
   "source": [
    "vac = vac[vac != ' ']"
   ]
  },
  {
   "cell_type": "code",
   "execution_count": 100,
   "metadata": {},
   "outputs": [
    {
     "name": "stderr",
     "output_type": "stream",
     "text": [
      "100%|██████████| 1019/1019 [00:00<00:00, 277478.14it/s]\n"
     ]
    }
   ],
   "source": [
    "SUBFIELDCODE = []\n",
    "SUBFIELDNAME = []\n",
    "DEGREE = []\n",
    "SUBJECT = []\n",
    "SEMESTER = []\n",
    "START_YEAR = []\n",
    "KEYWORDS = []\n",
    "JOBNAME = []\n",
    "ORGANIZATION = []\n",
    "LOCATION = []\n",
    "WORKTIME = []\n",
    "EXPERIANCE = []\n",
    "SALARY = []\n",
    "REQUERMENTS = []\n",
    "\n",
    "for record in tqdm(vac):\n",
    "    SUBFIELDCODE.append(record[0][0])\n",
    "    SUBFIELDNAME.append(record[0][1])\n",
    "    DEGREE.append(record[0][2])\n",
    "    SUBJECT.append(record[0][3])\n",
    "    SEMESTER.append(record[0][4])\n",
    "    START_YEAR.append(record[0][5])\n",
    "    KEYWORDS.append(record[0][6])\n",
    "    \n",
    "    JOBNAME.append(record[1][0])\n",
    "    ORGANIZATION.append(record[1][1])\n",
    "    LOCATION.append(record[1][2])\n",
    "    WORKTIME.append(record[1][3])\n",
    "    EXPERIANCE.append(record[1][4])\n",
    "    SALARY.append(record[1][5])\n",
    "    REQUERMENTS.append(record[1][6])"
   ]
  },
  {
   "cell_type": "code",
   "execution_count": 112,
   "metadata": {},
   "outputs": [],
   "source": [
    "matched = pd.DataFrame({'SUBFIELDCODE' : SUBFIELDCODE, 'SUBFIELDNAME' : SUBFIELDNAME, 'DEGREE': DEGREE, \n",
    "                      'SUBJECT' : SUBJECT, 'SEMESTER' : SEMESTER, 'START_YEAR' : START_YEAR, 'KEYWORDS' : KEYWORDS,\n",
    "                       'JOBNAME' : JOBNAME, 'ORGANIZATION' : ORGANIZATION, 'LOCATION' : LOCATION, \n",
    "                       'WORKTIME' : WORKTIME, 'EXPERIANCE' : EXPERIANCE, 'SALARY': SALARY, \n",
    "                       'REQUERMENTS' : REQUERMENTS})"
   ]
  },
  {
   "cell_type": "code",
   "execution_count": 103,
   "metadata": {},
   "outputs": [
    {
     "data": {
      "text/plain": [
       "SUBFIELDCODE                                             27.04.05\n",
       "SUBFIELDNAME                                 Научная коммуникация\n",
       "DEGREE                                                    Магистр\n",
       "SUBJECT              Основы научной визуализации и анализа данных\n",
       "SEMESTER                                                        3\n",
       "START_YEAR                                                   2018\n",
       "KEYWORDS        Простейшие функции MS Excel; Введение в анализ...\n",
       "JOBNAME              Оператор видеонаблюдения (кассовый контроль)\n",
       "ORGANIZATION                                              Буквоед\n",
       "LOCATION        Площадь Ленина, Санкт-Петербург, Минеральная у...\n",
       "WORKTIME                            Полная занятость, полный день\n",
       "EXPERIANCE                                           не требуется\n",
       "SALARY                           от 35 000 до 40 000 руб. на руки\n",
       "REQUERMENTS                      Работа с базами данных, MS Excel\n",
       "Name: 0, dtype: object"
      ]
     },
     "execution_count": 103,
     "metadata": {},
     "output_type": "execute_result"
    }
   ],
   "source": [
    "matched.iloc[0]"
   ]
  },
  {
   "cell_type": "code",
   "execution_count": 104,
   "metadata": {
    "scrolled": true
   },
   "outputs": [
    {
     "data": {
      "text/plain": [
       "SUBFIELDCODE                                             27.04.07\n",
       "SUBFIELDNAME                     Промышленный дизайн и инжиниринг\n",
       "DEGREE                                                    Магистр\n",
       "SUBJECT                           Современный промышленный дизайн\n",
       "SEMESTER                                                        2\n",
       "START_YEAR                                                   2015\n",
       "KEYWORDS        Adobe Photoshop; Коллаж (базовый уровень); Осн...\n",
       "JOBNAME                                          Контент-менеджер\n",
       "ORGANIZATION                             Забиров Руслан Артурович\n",
       "LOCATION                                          Санкт-Петербург\n",
       "WORKTIME                            Полная занятость, полный день\n",
       "EXPERIANCE                                           не требуется\n",
       "SALARY                                     от 40 000 руб. на руки\n",
       "REQUERMENTS                                       Adobe Photoshop\n",
       "Name: 1, dtype: object"
      ]
     },
     "execution_count": 104,
     "metadata": {},
     "output_type": "execute_result"
    }
   ],
   "source": [
    "matched.iloc[1]"
   ]
  },
  {
   "cell_type": "code",
   "execution_count": 105,
   "metadata": {},
   "outputs": [
    {
     "data": {
      "text/plain": [
       "SUBFIELDCODE                                             38.04.05\n",
       "SUBFIELDNAME                       Информационные системы бизнеса\n",
       "DEGREE                                                    Магистр\n",
       "SUBJECT                                                   WEB 2.0\n",
       "SEMESTER                                                        2\n",
       "START_YEAR                                                   2015\n",
       "KEYWORDS        позиционирование, разметка, html, декоративные...\n",
       "JOBNAME                         Web программист / веб-разработчик\n",
       "ORGANIZATION                                            ProfitKit\n",
       "LOCATION        Площадь Александра Невского 2, Санкт-Петербург...\n",
       "WORKTIME                            Полная занятость, полный день\n",
       "EXPERIANCE                                               1–3 года\n",
       "SALARY                           от 30 000 до 50 000 руб. на руки\n",
       "REQUERMENTS     HTML, CSS, PHP, jQuery, 1С-Битрикс, CMS Wordpr...\n",
       "Name: 2, dtype: object"
      ]
     },
     "execution_count": 105,
     "metadata": {},
     "output_type": "execute_result"
    }
   ],
   "source": [
    "matched.iloc[2]"
   ]
  },
  {
   "cell_type": "code",
   "execution_count": 107,
   "metadata": {},
   "outputs": [
    {
     "data": {
      "text/plain": [
       "SUBFIELDCODE                                             01.04.02\n",
       "SUBFIELDNAME    Экстренные вычисления и обработка сверхбольших...\n",
       "DEGREE                                                    Магистр\n",
       "SUBJECT               Методы и модели многомерного анализа данных\n",
       "SEMESTER                                                        2\n",
       "START_YEAR                                                   2015\n",
       "KEYWORDS        Introduction to R; Multivariate Data Handling ...\n",
       "JOBNAME                                          Программист Java\n",
       "ORGANIZATION                                               СПЕКТР\n",
       "LOCATION        Московская, Ленинский проспект, Санкт-Петербур...\n",
       "WORKTIME                            Полная занятость, полный день\n",
       "EXPERIANCE                                                3–6 лет\n",
       "SALARY                          от 70 000 до 110 000 руб. на руки\n",
       "REQUERMENTS     Java, Spring Framework, SQL, JMS, JAX-WS, JAX-...\n",
       "Name: 5, dtype: object"
      ]
     },
     "execution_count": 107,
     "metadata": {},
     "output_type": "execute_result"
    }
   ],
   "source": [
    "matched.iloc[5]"
   ]
  },
  {
   "cell_type": "markdown",
   "metadata": {},
   "source": [
    "# Performing simple matching"
   ]
  },
  {
   "cell_type": "code",
   "execution_count": 1,
   "metadata": {},
   "outputs": [],
   "source": [
    "import numpy as np\n",
    "\n",
    "def read_glove(filename):\n",
    "    word_embeddings = {}\n",
    "    f = open(filename,'r', errors = 'ignore', encoding='utf8')\n",
    "    \n",
    "    for line in f:\n",
    "        values = line.split()\n",
    "        word = values[0]\n",
    "        coefs = np.asarray(values[1:], dtype='float32')\n",
    "        word_embeddings[word] = coefs\n",
    "        \n",
    "    f.close()\n",
    "    \n",
    "    return word_embeddings\n",
    "\n",
    "def read_eng_glove(filename):\n",
    "    embedding_model = {}\n",
    "    f = open(filename, encoding=\"utf8\")\n",
    "    for line in f:\n",
    "        values = line.split()\n",
    "        word = ''.join(values[:-300])\n",
    "        coefs = np.asarray(values[-300:], dtype='float32')\n",
    "        embedding_model[word] = coefs\n",
    "    f.close()\n",
    "    return embedding_model"
   ]
  },
  {
   "cell_type": "code",
   "execution_count": 2,
   "metadata": {},
   "outputs": [],
   "source": [
    "# getting russian word embeddings\n",
    "ru_word_embeddings = read_glove('multilingual_embeddings.ru')"
   ]
  },
  {
   "cell_type": "code",
   "execution_count": null,
   "metadata": {},
   "outputs": [],
   "source": []
  },
  {
   "cell_type": "code",
   "execution_count": null,
   "metadata": {},
   "outputs": [],
   "source": []
  }
 ],
 "metadata": {
  "kernelspec": {
   "display_name": "Python 3",
   "language": "python",
   "name": "python3"
  },
  "language_info": {
   "codemirror_mode": {
    "name": "ipython",
    "version": 3
   },
   "file_extension": ".py",
   "mimetype": "text/x-python",
   "name": "python",
   "nbconvert_exporter": "python",
   "pygments_lexer": "ipython3",
   "version": "3.8.2"
  }
 },
 "nbformat": 4,
 "nbformat_minor": 4
}
